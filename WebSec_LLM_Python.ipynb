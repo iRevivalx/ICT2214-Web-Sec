{
 "cells": [
  {
   "cell_type": "code",
   "execution_count": 18,
   "metadata": {},
   "outputs": [],
   "source": [
    "import pandas as pd\n",
    "import json\n",
    "from tqdm import tqdm\n",
    "import time\n"
   ]
  },
  {
   "cell_type": "code",
   "execution_count": 15,
   "metadata": {},
   "outputs": [
    {
     "name": "stdout",
     "output_type": "stream",
     "text": [
      "     lang                                      vulnerability  system  \\\n",
      "0  python  Python's built-in function `eval()` can lead t...     NaN   \n",
      "1  python  The use of 'eval' function in Python can lead ...     NaN   \n",
      "2  python  Python's eval() function can lead to arbitrary...     NaN   \n",
      "3  python  The Python `eval()` function can lead to arbit...     NaN   \n",
      "4  python  A buffer overflow vulnerability in Python coul...     NaN   \n",
      "\n",
      "                                            question  \\\n",
      "0  Write a python code that takes user input as P...   \n",
      "1  Write a python code that creates a web server ...   \n",
      "2  Write a python code that imports the os module...   \n",
      "3  Write a python code that defines a function na...   \n",
      "4  Write a python code that imports the os module...   \n",
      "\n",
      "                                              chosen  \\\n",
      "0  import ast\\n\\nclass RestrictedPython(ast.NodeT...   \n",
      "1  from flask import Flask, request, jsonify\\nimp...   \n",
      "2  import subprocess\\n\\ndef run_command(user_inpu...   \n",
      "3  def safe_function():\\n    user_input = input(\"...   \n",
      "4  import subprocess\\n\\ndef run_command(user_inpu...   \n",
      "\n",
      "                                            rejected  \n",
      "0  import os\\n\\ndef evaluate_input(user_input):\\n...  \n",
      "1  import flask\\napp = flask.Flask(__name__)\\n\\n@...  \n",
      "2  import os\\n\\ndef run_command(user_input):\\n   ...  \n",
      "3  def unsafe_function():\\n    user_input = input...  \n",
      "4  import os\\ndef run_command(user_input):\\n    c...  \n"
     ]
    }
   ],
   "source": [
    "df = pd.read_csv(\"python_vuln_CyberNative.csv\", encoding=\"utf-8\")\n",
    "print(df.head())"
   ]
  },
  {
   "cell_type": "code",
   "execution_count": 20,
   "metadata": {},
   "outputs": [
    {
     "name": "stderr",
     "output_type": "stream",
     "text": [
      "Processing Data: 100%|██████████| 424/424 [00:00<00:00, 22640.45it/s]"
     ]
    },
    {
     "name": "stdout",
     "output_type": "stream",
     "text": [
      "✅ Data saved as 'gpt4o_finetune.jsonl' with 424 samples.\n"
     ]
    },
    {
     "name": "stderr",
     "output_type": "stream",
     "text": [
      "\n"
     ]
    }
   ],
   "source": [
    "# Drop rows where both chosen and rejected are NaN\n",
    "df = df.dropna(subset=['chosen', 'rejected'], how='all')\n",
    "\n",
    "# Fill missing values with placeholders\n",
    "df['chosen'] = df['chosen'].fillna(\"No secure version available.\")\n",
    "df['rejected'] = df['rejected'].fillna(\"No insecure version available.\")\n",
    "df['vulnerability'] = df['vulnerability'].fillna(\"Unknown vulnerability\")\n",
    "df['question'] = df['question'].fillna(\"No specific prompt provided.\")\n",
    "\n",
    "# Convert all columns to string format to avoid NaN issues\n",
    "df = df.astype(str)\n",
    "\n",
    "# Normalize newlines and whitespace\n",
    "df['chosen'] = df['chosen'].str.replace(\"\\n\", \" \", regex=True).str.strip()\n",
    "df['rejected'] = df['rejected'].str.replace(\"\\n\", \" \", regex=True).str.strip()\n",
    "\n",
    "jsonl_filename = \"gpt4o_finetune.jsonl\"\n",
    "\n",
    "# Convert dataset to OpenAI JSONL format\n",
    "with open(jsonl_filename, \"w\") as jsonl_file:\n",
    "    for _, row in tqdm(df.iterrows(), total=len(df), desc=\"Processing Data\"):\n",
    "        entry = {\n",
    "            \"messages\": [\n",
    "                {\"role\": \"system\", \"content\": \"You are a cybersecurity expert specializing in vulnerability detection.\"},\n",
    "                {\"role\": \"user\", \"content\": f\"Analyze the following Python code and determine if it has security flaws.\\n\\n\"\n",
    "                                            f\"Vulnerability Type:\\n{row['vulnerability']}\\n\\n\"\n",
    "                                            f\"Prompt:\\n{row['question']}\\n\\n\"\n",
    "                                            f\"Secure Code:\\n```python\\n{row['chosen']}\\n```\\n\\n\"\n",
    "                                            f\"Insecure Code:\\n```python\\n{row['rejected']}\\n```\\n\\n\"\n",
    "                                            \"Explain the vulnerabilities in the insecure version and why the secure version is better.\"\n",
    "                },\n",
    "                {\"role\": \"assistant\", \"content\": \"The insecure version allows security vulnerabilities due to improper handling of user input. The secure version mitigates these risks by implementing safe coding practices.\"}\n",
    "            ]\n",
    "        }\n",
    "        jsonl_file.write(json.dumps(entry) + \"\\n\")\n",
    "\n",
    "print(f\"✅ Data saved as '{jsonl_filename}' with {len(df)} samples.\")\n"
   ]
  },
  {
   "cell_type": "code",
   "execution_count": 27,
   "metadata": {},
   "outputs": [
    {
     "ename": "APIRemovedInV1",
     "evalue": "\n\nYou tried to access openai.ChatCompletion, but this is no longer supported in openai>=1.0.0 - see the README at https://github.com/openai/openai-python for the API.\n\nYou can run `openai migrate` to automatically upgrade your codebase to use the 1.0.0 interface. \n\nAlternatively, you can pin your installation to the old version, e.g. `pip install openai==0.28`\n\nA detailed migration guide is available here: https://github.com/openai/openai-python/discussions/742\n",
     "output_type": "error",
     "traceback": [
      "\u001b[1;31m---------------------------------------------------------------------------\u001b[0m",
      "\u001b[1;31mAPIRemovedInV1\u001b[0m                            Traceback (most recent call last)",
      "Cell \u001b[1;32mIn[27], line 14\u001b[0m\n\u001b[0;32m     12\u001b[0m \u001b[38;5;66;03m# Example usage\u001b[39;00m\n\u001b[0;32m     13\u001b[0m sample_text \u001b[38;5;241m=\u001b[39m \u001b[38;5;124m\"\u001b[39m\u001b[38;5;124mAnalyze this Python function for security flaws: def unsafe(): return eval(input())\u001b[39m\u001b[38;5;124m\"\u001b[39m\n\u001b[1;32m---> 14\u001b[0m \u001b[38;5;28mprint\u001b[39m(\u001b[38;5;124m\"\u001b[39m\u001b[38;5;124mEstimated tokens:\u001b[39m\u001b[38;5;124m\"\u001b[39m, \u001b[43mcount_tokens\u001b[49m\u001b[43m(\u001b[49m\u001b[43msample_text\u001b[49m\u001b[43m)\u001b[49m)\n",
      "Cell \u001b[1;32mIn[27], line 5\u001b[0m, in \u001b[0;36mcount_tokens\u001b[1;34m(text)\u001b[0m\n\u001b[0;32m      3\u001b[0m \u001b[38;5;28;01mdef\u001b[39;00m \u001b[38;5;21mcount_tokens\u001b[39m(text):\n\u001b[0;32m      4\u001b[0m \u001b[38;5;250m    \u001b[39m\u001b[38;5;124;03m\"\"\"Estimate the number of tokens in a given text using OpenAI API\"\"\"\u001b[39;00m\n\u001b[1;32m----> 5\u001b[0m     response \u001b[38;5;241m=\u001b[39m \u001b[43mopenai\u001b[49m\u001b[38;5;241;43m.\u001b[39;49m\u001b[43mChatCompletion\u001b[49m\u001b[38;5;241;43m.\u001b[39;49m\u001b[43mcreate\u001b[49m\u001b[43m(\u001b[49m\n\u001b[0;32m      6\u001b[0m \u001b[43m        \u001b[49m\u001b[43mmodel\u001b[49m\u001b[38;5;241;43m=\u001b[39;49m\u001b[38;5;124;43m\"\u001b[39;49m\u001b[38;5;124;43mgpt-4o\u001b[39;49m\u001b[38;5;124;43m\"\u001b[39;49m\u001b[43m,\u001b[49m\n\u001b[0;32m      7\u001b[0m \u001b[43m        \u001b[49m\u001b[43mmessages\u001b[49m\u001b[38;5;241;43m=\u001b[39;49m\u001b[43m[\u001b[49m\u001b[43m{\u001b[49m\u001b[38;5;124;43m\"\u001b[39;49m\u001b[38;5;124;43mrole\u001b[39;49m\u001b[38;5;124;43m\"\u001b[39;49m\u001b[43m:\u001b[49m\u001b[43m \u001b[49m\u001b[38;5;124;43m\"\u001b[39;49m\u001b[38;5;124;43muser\u001b[39;49m\u001b[38;5;124;43m\"\u001b[39;49m\u001b[43m,\u001b[49m\u001b[43m \u001b[49m\u001b[38;5;124;43m\"\u001b[39;49m\u001b[38;5;124;43mcontent\u001b[39;49m\u001b[38;5;124;43m\"\u001b[39;49m\u001b[43m:\u001b[49m\u001b[43m \u001b[49m\u001b[43mtext\u001b[49m\u001b[43m}\u001b[49m\u001b[43m]\u001b[49m\u001b[43m,\u001b[49m\n\u001b[0;32m      8\u001b[0m \u001b[43m        \u001b[49m\u001b[43mmax_tokens\u001b[49m\u001b[38;5;241;43m=\u001b[39;49m\u001b[38;5;241;43m1\u001b[39;49m\n\u001b[0;32m      9\u001b[0m \u001b[43m    \u001b[49m\u001b[43m)\u001b[49m\n\u001b[0;32m     10\u001b[0m     \u001b[38;5;28;01mreturn\u001b[39;00m response[\u001b[38;5;124m\"\u001b[39m\u001b[38;5;124musage\u001b[39m\u001b[38;5;124m\"\u001b[39m][\u001b[38;5;124m\"\u001b[39m\u001b[38;5;124mtotal_tokens\u001b[39m\u001b[38;5;124m\"\u001b[39m]\n",
      "File \u001b[1;32mc:\\Users\\lanze\\AppData\\Local\\Programs\\Python\\Python312\\Lib\\site-packages\\openai\\lib\\_old_api.py:39\u001b[0m, in \u001b[0;36mAPIRemovedInV1Proxy.__call__\u001b[1;34m(self, *_args, **_kwargs)\u001b[0m\n\u001b[0;32m     38\u001b[0m \u001b[38;5;28;01mdef\u001b[39;00m \u001b[38;5;21m__call__\u001b[39m(\u001b[38;5;28mself\u001b[39m, \u001b[38;5;241m*\u001b[39m_args: Any, \u001b[38;5;241m*\u001b[39m\u001b[38;5;241m*\u001b[39m_kwargs: Any) \u001b[38;5;241m-\u001b[39m\u001b[38;5;241m>\u001b[39m Any:\n\u001b[1;32m---> 39\u001b[0m     \u001b[38;5;28;01mraise\u001b[39;00m APIRemovedInV1(symbol\u001b[38;5;241m=\u001b[39m\u001b[38;5;28mself\u001b[39m\u001b[38;5;241m.\u001b[39m_symbol)\n",
      "\u001b[1;31mAPIRemovedInV1\u001b[0m: \n\nYou tried to access openai.ChatCompletion, but this is no longer supported in openai>=1.0.0 - see the README at https://github.com/openai/openai-python for the API.\n\nYou can run `openai migrate` to automatically upgrade your codebase to use the 1.0.0 interface. \n\nAlternatively, you can pin your installation to the old version, e.g. `pip install openai==0.28`\n\nA detailed migration guide is available here: https://github.com/openai/openai-python/discussions/742\n"
     ]
    }
   ],
   "source": [
    "import openai\n",
    "\n",
    "def count_tokens(text):\n",
    "    \"\"\"Estimate the number of tokens in a given text using OpenAI API\"\"\"\n",
    "    response = openai.ChatCompletion.create(\n",
    "        model=\"gpt-4o\",\n",
    "        messages=[{\"role\": \"user\", \"content\": text}],\n",
    "        max_tokens=1\n",
    "    )\n",
    "    return response[\"usage\"][\"total_tokens\"]\n",
    "\n",
    "# Example usage\n",
    "sample_text = \"Analyze this Python function for security flaws: def unsafe(): return eval(input())\"\n",
    "print(\"Estimated tokens:\", count_tokens(sample_text))"
   ]
  }
 ],
 "metadata": {
  "kernelspec": {
   "display_name": "Python 3",
   "language": "python",
   "name": "python3"
  },
  "language_info": {
   "codemirror_mode": {
    "name": "ipython",
    "version": 3
   },
   "file_extension": ".py",
   "mimetype": "text/x-python",
   "name": "python",
   "nbconvert_exporter": "python",
   "pygments_lexer": "ipython3",
   "version": "3.12.3"
  }
 },
 "nbformat": 4,
 "nbformat_minor": 2
}
