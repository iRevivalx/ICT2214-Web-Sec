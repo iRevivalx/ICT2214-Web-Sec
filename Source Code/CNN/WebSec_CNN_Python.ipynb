{
  "cells": [
    {
      "cell_type": "markdown",
      "metadata": {
        "id": "OnL4coPkHLTb"
      },
      "source": [
        "# Import Libraries\n",
        "This section contains all the necessary imports for the project"
      ]
    },
    {
      "cell_type": "code",
      "execution_count": 9,
      "metadata": {
        "id": "ZqQSoqliGxIk"
      },
      "outputs": [],
      "source": [
        "import random\n",
        "import numpy as np\n",
        "import pandas as pd\n",
        "import tensorflow as tf\n",
        "import seaborn as sns\n",
        "import matplotlib.pyplot as plt\n",
        "from sklearn.model_selection import train_test_split\n",
        "from sklearn.utils.class_weight import compute_class_weight\n",
        "from sklearn.metrics import classification_report, confusion_matrix, roc_auc_score\n",
        "from sklearn.metrics import roc_curve, auc, precision_recall_curve, f1_score, confusion_matrix\n",
        "from sklearn.preprocessing import LabelEncoder\n",
        "from tensorflow.keras.layers import BatchNormalization, MaxPooling1D, TextVectorization\n",
        "from tensorflow.keras.optimizers import AdamW         # For better optimizer\n",
        "from tensorflow.keras.callbacks import EarlyStopping  # For better training control\n",
        "from tensorflow.keras.models import Model\n",
        "from tensorflow.keras.layers import Input, Embedding, Conv1D, GlobalMaxPooling1D, Dense, Dropout, Add"
      ]
    },
    {
      "cell_type": "markdown",
      "metadata": {
        "id": "JeSabMbZqN_B"
      },
      "source": [
        "# Seed Selection\n",
        "\n",
        "Create random seeds"
      ]
    },
    {
      "cell_type": "code",
      "execution_count": 2,
      "metadata": {
        "id": "h_VWdg5gqTx7"
      },
      "outputs": [],
      "source": [
        "# Set random seeds for reproducibility\n",
        "np.random.seed(42)  # Set NumPy random seed\n",
        "random.seed(42)  # Set Python random seed\n",
        "tf.random.set_seed(42)  # Set TensorFlow random seed"
      ]
    },
    {
      "cell_type": "markdown",
      "metadata": {
        "id": "SCOv-ufiHaw2"
      },
      "source": [
        "# Load Dataset\n",
        "This section where we load the dataset and preview the first few rows"
      ]
    },
    {
      "cell_type": "code",
      "execution_count": null,
      "metadata": {
        "colab": {
          "base_uri": "https://localhost:8080/"
        },
        "id": "mdlvNMkPG6Bn",
        "outputId": "e130dfba-6d87-4aa9-ac5b-db27bca75c23"
      },
      "outputs": [
        {
          "name": "stdout",
          "output_type": "stream",
          "text": [
            "     lang                                      vulnerability  system  \\\n",
            "0  python  Python's built-in function `eval()` can lead t...     NaN   \n",
            "1  python  The use of 'eval' function in Python can lead ...     NaN   \n",
            "2  python  Python's eval() function can lead to arbitrary...     NaN   \n",
            "3  python  The Python `eval()` function can lead to arbit...     NaN   \n",
            "4  python  A buffer overflow vulnerability in Python coul...     NaN   \n",
            "\n",
            "                                            question  \\\n",
            "0  Write a python code that takes user input as P...   \n",
            "1  Write a python code that creates a web server ...   \n",
            "2  Write a python code that imports the os module...   \n",
            "3  Write a python code that defines a function na...   \n",
            "4  Write a python code that imports the os module...   \n",
            "\n",
            "                                              chosen  \\\n",
            "0  import ast\\n\\nclass RestrictedPython(ast.NodeT...   \n",
            "1  from flask import Flask, request, jsonify\\nimp...   \n",
            "2  import subprocess\\n\\ndef run_command(user_inpu...   \n",
            "3  def safe_function():\\n    user_input = input(\"...   \n",
            "4  import subprocess\\n\\ndef run_command(user_inpu...   \n",
            "\n",
            "                                            rejected  \n",
            "0  import os\\n\\ndef evaluate_input(user_input):\\n...  \n",
            "1  import flask\\napp = flask.Flask(__name__)\\n\\n@...  \n",
            "2  import os\\n\\ndef run_command(user_input):\\n   ...  \n",
            "3  def unsafe_function():\\n    user_input = input...  \n",
            "4  import os\\ndef run_command(user_input):\\n    c...  \n",
            "                                                code language  safety\n",
            "0  from __future__ import division, absolute_impo...       py       0\n",
            "1  from __future__ import absolute_import, divisi...       py       1\n",
            "2  from __future__ import with_statement\\n\\nimpor...       py       1\n",
            "3  import os\\n\\n\\n\\nimport attr\\n\\nimport pytest\\...       py       0\n",
            "4  from __future__ import absolute_import\\n\\nfrom...       py       0\n"
          ]
        }
      ],
      "source": [
        "dataset = pd.read_csv(\"python_vuln_CyberNative.csv\", encoding=\"utf-8\")\n",
        "print(dataset.head())"
      ]
    },
    {
      "cell_type": "markdown",
      "metadata": {
        "id": "BBNy5JOYh5Zq"
      },
      "source": [
        "# Test Dataset Cleaning\n",
        "Spliting the input code as functions"
      ]
    },
    {
      "cell_type": "code",
      "execution_count": null,
      "metadata": {
        "id": "dAcROyqxiGwl"
      },
      "outputs": [],
      "source": []
    },
    {
      "cell_type": "markdown",
      "metadata": {
        "id": "vQrR__ssHk5b"
      },
      "source": [
        "# Preprocessing\n",
        "Perform preprocessing such as tokenization, padding, and label encoding.\n"
      ]
    },
    {
      "cell_type": "code",
      "execution_count": null,
      "metadata": {
        "colab": {
          "base_uri": "https://localhost:8080/"
        },
        "id": "r9dGbT6XtSyp",
        "outputId": "b3073fbd-03a1-4ce8-bed5-0ab4dfa80f56"
      },
      "outputs": [
        {
          "name": "stdout",
          "output_type": "stream",
          "text": [
            "                                                  func  target\n",
            "0    import ast\\n\\nclass RestrictedPython(ast.NodeT...       0\n",
            "1    from flask import Flask, request, jsonify\\nimp...       0\n",
            "2    import subprocess\\n\\ndef run_command(user_inpu...       0\n",
            "3    def safe_function():\\n    user_input = input(\"...       0\n",
            "4    import subprocess\\n\\ndef run_command(user_inpu...       0\n",
            "..                                                 ...     ...\n",
            "843  import sqlite3\\n\\ndef login(username, password...       1\n",
            "844  def get_user_input():\\n    user_input = input(...       1\n",
            "845  import subprocess\\n\\ndef execute_command(user_...       1\n",
            "846  import os\\ndef run_command(user_input):\\n    c...       1\n",
            "847  import os\\n\\ndef vulnerable_function(user_inpu...       1\n",
            "\n",
            "[848 rows x 2 columns]\n",
            "<bound method NDFrame.head of                                                   func  target\n",
            "0    import ast  class RestrictedPython(ast.NodeTra...       0\n",
            "1    from flask import Flask, request, jsonify impo...       0\n",
            "2    import subprocess  def run_command(user_input)...       0\n",
            "3    def safe_function():     user_input = input(\"E...       0\n",
            "4    import subprocess  def run_command(user_input)...       0\n",
            "..                                                 ...     ...\n",
            "843  import sqlite3  def login(username, password):...       1\n",
            "844  def get_user_input():     user_input = input(\"...       1\n",
            "845  import subprocess  def execute_command(user_in...       1\n",
            "846  import os def run_command(user_input):     com...       1\n",
            "847  import os  def vulnerable_function(user_input)...       1\n",
            "\n",
            "[848 rows x 2 columns]>\n",
            "(848, 2)\n",
            "Class Weights: {0: 1.0, 1: 1.0}\n"
          ]
        }
      ],
      "source": [
        "def create_func_target_dataframe(df):\n",
        "    # Create a new DataFrame for the chosen column\n",
        "    chosen_df = df[['chosen']].dropna().rename(columns={'chosen': 'func'})\n",
        "    chosen_df['target'] = 0\n",
        "\n",
        "    # Create a new DataFrame for the rejected column\n",
        "    rejected_df = df[['rejected']].dropna().rename(columns={'rejected': 'func'})\n",
        "    rejected_df['target'] = 1\n",
        "\n",
        "    # Concatenate the chosen and rejected DataFrames\n",
        "    result_df = pd.concat([chosen_df, rejected_df], ignore_index=True)\n",
        "\n",
        "    return result_df\n",
        "\n",
        "processed_df = create_func_target_dataframe(dataset)\n",
        "\n",
        "print(processed_df)\n",
        "\n",
        "# Check for missing values in 'func' column and fill them with a placeholder\n",
        "processed_df['func'] = processed_df['func'].fillna(\"missing\").astype(str)\n",
        "\n",
        "# Preprocess: Replace \\n with a space or remove it\n",
        "processed_df['func'] = processed_df['func'].str.replace(\"\\n\", \" \")  # Replace with space\n",
        "print(processed_df.head)\n",
        "print(processed_df.shape)\n",
        "\n",
        "# Vectorize the input\n",
        "vectorizer = TextVectorization(max_tokens=20000, output_sequence_length=300, output_mode='int')\n",
        "vectorizer.adapt(processed_df['func'])\n",
        "X = vectorizer(processed_df['func'].values)\n",
        "\n",
        "\n",
        "y = processed_df['target']\n",
        "\n",
        "# Ensure no NaN values remain in the labels\n",
        "if np.any(pd.isnull(y)):\n",
        "    print(\"Error: NaN values found in labels\")\n",
        "    y = np.nan_to_num(y)  # Replace any unexpected NaN with zeros (if necessary)\n",
        "\n",
        "# Convert TensorFlow tensors to NumPy arrays\n",
        "X = np.array(X)\n",
        "y = np.array(y)\n",
        "\n",
        "# Compute class weights\n",
        "class_weights = compute_class_weight(\n",
        "    class_weight='balanced',  # Ensures balanced weighting\n",
        "    classes=np.unique(y),  # Unique classes (0 and 1)\n",
        "    y=y  # Training labels\n",
        ")\n",
        "\n",
        "# Convert class weights to a dictionary\n",
        "class_weights_dict = {i: weight for i, weight in enumerate(class_weights)}\n",
        "print(\"Class Weights:\", class_weights_dict)"
      ]
    },
    {
      "cell_type": "markdown",
      "metadata": {
        "id": "Szam8sO_Hq-5"
      },
      "source": [
        "# Train/Test Split\n",
        "Split the data into training and testing sets.\n"
      ]
    },
    {
      "cell_type": "code",
      "execution_count": 5,
      "metadata": {
        "colab": {
          "base_uri": "https://localhost:8080/"
        },
        "id": "GdNa6381G6Gk",
        "outputId": "c45a2234-6dac-4b17-f5da-9f09733b4f0b"
      },
      "outputs": [
        {
          "name": "stdout",
          "output_type": "stream",
          "text": [
            "Class distribution in training data: {0: 344, 1: 334}\n",
            "Class distribution in testing data: {0: 80, 1: 90}\n"
          ]
        }
      ],
      "source": [
        "# Split the data into training and testing sets\n",
        "X_train, X_test, y_train, y_test, func_train, func_test = train_test_split(\n",
        "    X, y, processed_df['func'], test_size=0.2, random_state=42\n",
        ")\n",
        "\n",
        "# Convert data to float32 for compatibility with TensorFlow\n",
        "X_train = X_train.astype('float32')\n",
        "X_test = X_test.astype('float32')\n",
        "\n",
        "# Check the class distribution in the training and testing sets\n",
        "unique_train, counts_train = np.unique(y_train, return_counts=True)\n",
        "print(\"Class distribution in training data:\", dict(zip(unique_train, counts_train)))\n",
        "\n",
        "unique_test, counts_test = np.unique(y_test, return_counts=True)\n",
        "print(\"Class distribution in testing data:\", dict(zip(unique_test, counts_test)))"
      ]
    },
    {
      "cell_type": "code",
      "execution_count": null,
      "metadata": {
        "id": "DcKroqpmi46j"
      },
      "outputs": [],
      "source": []
    },
    {
      "cell_type": "markdown",
      "metadata": {
        "id": "f6LZ6tzTHwfg"
      },
      "source": [
        "# Model Training\n",
        "Train the CNN model on the preprocessed data.\n"
      ]
    },
    {
      "cell_type": "code",
      "execution_count": 6,
      "metadata": {
        "colab": {
          "base_uri": "https://localhost:8080/",
          "height": 762
        },
        "id": "GkxDcWknG6Lv",
        "outputId": "c85110f3-3657-4f5b-cece-56dcb49ef800"
      },
      "outputs": [
        {
          "data": {
            "text/html": [
              "<pre style=\"white-space:pre;overflow-x:auto;line-height:normal;font-family:Menlo,'DejaVu Sans Mono',consolas,'Courier New',monospace\"><span style=\"font-weight: bold\">Model: \"functional\"</span>\n",
              "</pre>\n"
            ],
            "text/plain": [
              "\u001b[1mModel: \"functional\"\u001b[0m\n"
            ]
          },
          "metadata": {},
          "output_type": "display_data"
        },
        {
          "data": {
            "text/html": [
              "<pre style=\"white-space:pre;overflow-x:auto;line-height:normal;font-family:Menlo,'DejaVu Sans Mono',consolas,'Courier New',monospace\">┏━━━━━━━━━━━━━━━━━━━━━━━━━━━━━━━━━━━━━━┳━━━━━━━━━━━━━━━━━━━━━━━━━━━━━┳━━━━━━━━━━━━━━━━━┓\n",
              "┃<span style=\"font-weight: bold\"> Layer (type)                         </span>┃<span style=\"font-weight: bold\"> Output Shape                </span>┃<span style=\"font-weight: bold\">         Param # </span>┃\n",
              "┡━━━━━━━━━━━━━━━━━━━━━━━━━━━━━━━━━━━━━━╇━━━━━━━━━━━━━━━━━━━━━━━━━━━━━╇━━━━━━━━━━━━━━━━━┩\n",
              "│ input_layer (<span style=\"color: #0087ff; text-decoration-color: #0087ff\">InputLayer</span>)             │ (<span style=\"color: #00d7ff; text-decoration-color: #00d7ff\">None</span>, <span style=\"color: #00af00; text-decoration-color: #00af00\">300</span>)                 │               <span style=\"color: #00af00; text-decoration-color: #00af00\">0</span> │\n",
              "├──────────────────────────────────────┼─────────────────────────────┼─────────────────┤\n",
              "│ embedding (<span style=\"color: #0087ff; text-decoration-color: #0087ff\">Embedding</span>)                │ (<span style=\"color: #00d7ff; text-decoration-color: #00d7ff\">None</span>, <span style=\"color: #00af00; text-decoration-color: #00af00\">300</span>, <span style=\"color: #00af00; text-decoration-color: #00af00\">256</span>)            │       <span style=\"color: #00af00; text-decoration-color: #00af00\">5,120,256</span> │\n",
              "├──────────────────────────────────────┼─────────────────────────────┼─────────────────┤\n",
              "│ conv1d (<span style=\"color: #0087ff; text-decoration-color: #0087ff\">Conv1D</span>)                      │ (<span style=\"color: #00d7ff; text-decoration-color: #00d7ff\">None</span>, <span style=\"color: #00af00; text-decoration-color: #00af00\">300</span>, <span style=\"color: #00af00; text-decoration-color: #00af00\">256</span>)            │         <span style=\"color: #00af00; text-decoration-color: #00af00\">459,008</span> │\n",
              "├──────────────────────────────────────┼─────────────────────────────┼─────────────────┤\n",
              "│ dropout (<span style=\"color: #0087ff; text-decoration-color: #0087ff\">Dropout</span>)                    │ (<span style=\"color: #00d7ff; text-decoration-color: #00d7ff\">None</span>, <span style=\"color: #00af00; text-decoration-color: #00af00\">300</span>, <span style=\"color: #00af00; text-decoration-color: #00af00\">256</span>)            │               <span style=\"color: #00af00; text-decoration-color: #00af00\">0</span> │\n",
              "├──────────────────────────────────────┼─────────────────────────────┼─────────────────┤\n",
              "│ conv1d_1 (<span style=\"color: #0087ff; text-decoration-color: #0087ff\">Conv1D</span>)                    │ (<span style=\"color: #00d7ff; text-decoration-color: #00d7ff\">None</span>, <span style=\"color: #00af00; text-decoration-color: #00af00\">300</span>, <span style=\"color: #00af00; text-decoration-color: #00af00\">64</span>)             │          <span style=\"color: #00af00; text-decoration-color: #00af00\">81,984</span> │\n",
              "├──────────────────────────────────────┼─────────────────────────────┼─────────────────┤\n",
              "│ dropout_1 (<span style=\"color: #0087ff; text-decoration-color: #0087ff\">Dropout</span>)                  │ (<span style=\"color: #00d7ff; text-decoration-color: #00d7ff\">None</span>, <span style=\"color: #00af00; text-decoration-color: #00af00\">300</span>, <span style=\"color: #00af00; text-decoration-color: #00af00\">64</span>)             │               <span style=\"color: #00af00; text-decoration-color: #00af00\">0</span> │\n",
              "├──────────────────────────────────────┼─────────────────────────────┼─────────────────┤\n",
              "│ global_max_pooling1d                 │ (<span style=\"color: #00d7ff; text-decoration-color: #00d7ff\">None</span>, <span style=\"color: #00af00; text-decoration-color: #00af00\">64</span>)                  │               <span style=\"color: #00af00; text-decoration-color: #00af00\">0</span> │\n",
              "│ (<span style=\"color: #0087ff; text-decoration-color: #0087ff\">GlobalMaxPooling1D</span>)                 │                             │                 │\n",
              "├──────────────────────────────────────┼─────────────────────────────┼─────────────────┤\n",
              "│ dense (<span style=\"color: #0087ff; text-decoration-color: #0087ff\">Dense</span>)                        │ (<span style=\"color: #00d7ff; text-decoration-color: #00d7ff\">None</span>, <span style=\"color: #00af00; text-decoration-color: #00af00\">128</span>)                 │           <span style=\"color: #00af00; text-decoration-color: #00af00\">8,320</span> │\n",
              "├──────────────────────────────────────┼─────────────────────────────┼─────────────────┤\n",
              "│ dropout_2 (<span style=\"color: #0087ff; text-decoration-color: #0087ff\">Dropout</span>)                  │ (<span style=\"color: #00d7ff; text-decoration-color: #00d7ff\">None</span>, <span style=\"color: #00af00; text-decoration-color: #00af00\">128</span>)                 │               <span style=\"color: #00af00; text-decoration-color: #00af00\">0</span> │\n",
              "├──────────────────────────────────────┼─────────────────────────────┼─────────────────┤\n",
              "│ dense_1 (<span style=\"color: #0087ff; text-decoration-color: #0087ff\">Dense</span>)                      │ (<span style=\"color: #00d7ff; text-decoration-color: #00d7ff\">None</span>, <span style=\"color: #00af00; text-decoration-color: #00af00\">1</span>)                   │             <span style=\"color: #00af00; text-decoration-color: #00af00\">129</span> │\n",
              "└──────────────────────────────────────┴─────────────────────────────┴─────────────────┘\n",
              "</pre>\n"
            ],
            "text/plain": [
              "┏━━━━━━━━━━━━━━━━━━━━━━━━━━━━━━━━━━━━━━┳━━━━━━━━━━━━━━━━━━━━━━━━━━━━━┳━━━━━━━━━━━━━━━━━┓\n",
              "┃\u001b[1m \u001b[0m\u001b[1mLayer (type)                        \u001b[0m\u001b[1m \u001b[0m┃\u001b[1m \u001b[0m\u001b[1mOutput Shape               \u001b[0m\u001b[1m \u001b[0m┃\u001b[1m \u001b[0m\u001b[1m        Param #\u001b[0m\u001b[1m \u001b[0m┃\n",
              "┡━━━━━━━━━━━━━━━━━━━━━━━━━━━━━━━━━━━━━━╇━━━━━━━━━━━━━━━━━━━━━━━━━━━━━╇━━━━━━━━━━━━━━━━━┩\n",
              "│ input_layer (\u001b[38;5;33mInputLayer\u001b[0m)             │ (\u001b[38;5;45mNone\u001b[0m, \u001b[38;5;34m300\u001b[0m)                 │               \u001b[38;5;34m0\u001b[0m │\n",
              "├──────────────────────────────────────┼─────────────────────────────┼─────────────────┤\n",
              "│ embedding (\u001b[38;5;33mEmbedding\u001b[0m)                │ (\u001b[38;5;45mNone\u001b[0m, \u001b[38;5;34m300\u001b[0m, \u001b[38;5;34m256\u001b[0m)            │       \u001b[38;5;34m5,120,256\u001b[0m │\n",
              "├──────────────────────────────────────┼─────────────────────────────┼─────────────────┤\n",
              "│ conv1d (\u001b[38;5;33mConv1D\u001b[0m)                      │ (\u001b[38;5;45mNone\u001b[0m, \u001b[38;5;34m300\u001b[0m, \u001b[38;5;34m256\u001b[0m)            │         \u001b[38;5;34m459,008\u001b[0m │\n",
              "├──────────────────────────────────────┼─────────────────────────────┼─────────────────┤\n",
              "│ dropout (\u001b[38;5;33mDropout\u001b[0m)                    │ (\u001b[38;5;45mNone\u001b[0m, \u001b[38;5;34m300\u001b[0m, \u001b[38;5;34m256\u001b[0m)            │               \u001b[38;5;34m0\u001b[0m │\n",
              "├──────────────────────────────────────┼─────────────────────────────┼─────────────────┤\n",
              "│ conv1d_1 (\u001b[38;5;33mConv1D\u001b[0m)                    │ (\u001b[38;5;45mNone\u001b[0m, \u001b[38;5;34m300\u001b[0m, \u001b[38;5;34m64\u001b[0m)             │          \u001b[38;5;34m81,984\u001b[0m │\n",
              "├──────────────────────────────────────┼─────────────────────────────┼─────────────────┤\n",
              "│ dropout_1 (\u001b[38;5;33mDropout\u001b[0m)                  │ (\u001b[38;5;45mNone\u001b[0m, \u001b[38;5;34m300\u001b[0m, \u001b[38;5;34m64\u001b[0m)             │               \u001b[38;5;34m0\u001b[0m │\n",
              "├──────────────────────────────────────┼─────────────────────────────┼─────────────────┤\n",
              "│ global_max_pooling1d                 │ (\u001b[38;5;45mNone\u001b[0m, \u001b[38;5;34m64\u001b[0m)                  │               \u001b[38;5;34m0\u001b[0m │\n",
              "│ (\u001b[38;5;33mGlobalMaxPooling1D\u001b[0m)                 │                             │                 │\n",
              "├──────────────────────────────────────┼─────────────────────────────┼─────────────────┤\n",
              "│ dense (\u001b[38;5;33mDense\u001b[0m)                        │ (\u001b[38;5;45mNone\u001b[0m, \u001b[38;5;34m128\u001b[0m)                 │           \u001b[38;5;34m8,320\u001b[0m │\n",
              "├──────────────────────────────────────┼─────────────────────────────┼─────────────────┤\n",
              "│ dropout_2 (\u001b[38;5;33mDropout\u001b[0m)                  │ (\u001b[38;5;45mNone\u001b[0m, \u001b[38;5;34m128\u001b[0m)                 │               \u001b[38;5;34m0\u001b[0m │\n",
              "├──────────────────────────────────────┼─────────────────────────────┼─────────────────┤\n",
              "│ dense_1 (\u001b[38;5;33mDense\u001b[0m)                      │ (\u001b[38;5;45mNone\u001b[0m, \u001b[38;5;34m1\u001b[0m)                   │             \u001b[38;5;34m129\u001b[0m │\n",
              "└──────────────────────────────────────┴─────────────────────────────┴─────────────────┘\n"
            ]
          },
          "metadata": {},
          "output_type": "display_data"
        },
        {
          "data": {
            "text/html": [
              "<pre style=\"white-space:pre;overflow-x:auto;line-height:normal;font-family:Menlo,'DejaVu Sans Mono',consolas,'Courier New',monospace\"><span style=\"font-weight: bold\"> Total params: </span><span style=\"color: #00af00; text-decoration-color: #00af00\">5,669,697</span> (21.63 MB)\n",
              "</pre>\n"
            ],
            "text/plain": [
              "\u001b[1m Total params: \u001b[0m\u001b[38;5;34m5,669,697\u001b[0m (21.63 MB)\n"
            ]
          },
          "metadata": {},
          "output_type": "display_data"
        },
        {
          "data": {
            "text/html": [
              "<pre style=\"white-space:pre;overflow-x:auto;line-height:normal;font-family:Menlo,'DejaVu Sans Mono',consolas,'Courier New',monospace\"><span style=\"font-weight: bold\"> Trainable params: </span><span style=\"color: #00af00; text-decoration-color: #00af00\">5,669,697</span> (21.63 MB)\n",
              "</pre>\n"
            ],
            "text/plain": [
              "\u001b[1m Trainable params: \u001b[0m\u001b[38;5;34m5,669,697\u001b[0m (21.63 MB)\n"
            ]
          },
          "metadata": {},
          "output_type": "display_data"
        },
        {
          "data": {
            "text/html": [
              "<pre style=\"white-space:pre;overflow-x:auto;line-height:normal;font-family:Menlo,'DejaVu Sans Mono',consolas,'Courier New',monospace\"><span style=\"font-weight: bold\"> Non-trainable params: </span><span style=\"color: #00af00; text-decoration-color: #00af00\">0</span> (0.00 B)\n",
              "</pre>\n"
            ],
            "text/plain": [
              "\u001b[1m Non-trainable params: \u001b[0m\u001b[38;5;34m0\u001b[0m (0.00 B)\n"
            ]
          },
          "metadata": {},
          "output_type": "display_data"
        },
        {
          "name": "stdout",
          "output_type": "stream",
          "text": [
            "Epoch 1/8\n",
            "\u001b[1m22/22\u001b[0m \u001b[32m━━━━━━━━━━━━━━━━━━━━\u001b[0m\u001b[37m\u001b[0m \u001b[1m19s\u001b[0m 787ms/step - accuracy: 0.5227 - loss: 0.6955 - val_accuracy: 0.7824 - val_loss: 0.6119\n",
            "Epoch 2/8\n",
            "\u001b[1m22/22\u001b[0m \u001b[32m━━━━━━━━━━━━━━━━━━━━\u001b[0m\u001b[37m\u001b[0m \u001b[1m21s\u001b[0m 811ms/step - accuracy: 0.8316 - loss: 0.4705 - val_accuracy: 0.8647 - val_loss: 0.3064\n",
            "Epoch 3/8\n",
            "\u001b[1m22/22\u001b[0m \u001b[32m━━━━━━━━━━━━━━━━━━━━\u001b[0m\u001b[37m\u001b[0m \u001b[1m19s\u001b[0m 765ms/step - accuracy: 0.9180 - loss: 0.1970 - val_accuracy: 0.8765 - val_loss: 0.2654\n",
            "Epoch 4/8\n",
            "\u001b[1m22/22\u001b[0m \u001b[32m━━━━━━━━━━━━━━━━━━━━\u001b[0m\u001b[37m\u001b[0m \u001b[1m20s\u001b[0m 747ms/step - accuracy: 0.9526 - loss: 0.1033 - val_accuracy: 0.8765 - val_loss: 0.2823\n",
            "Epoch 5/8\n",
            "\u001b[1m22/22\u001b[0m \u001b[32m━━━━━━━━━━━━━━━━━━━━\u001b[0m\u001b[37m\u001b[0m \u001b[1m17s\u001b[0m 763ms/step - accuracy: 0.9754 - loss: 0.0578 - val_accuracy: 0.8941 - val_loss: 0.2629\n",
            "Epoch 6/8\n",
            "\u001b[1m22/22\u001b[0m \u001b[32m━━━━━━━━━━━━━━━━━━━━\u001b[0m\u001b[37m\u001b[0m \u001b[1m21s\u001b[0m 786ms/step - accuracy: 0.9894 - loss: 0.0219 - val_accuracy: 0.8941 - val_loss: 0.3292\n",
            "Epoch 7/8\n",
            "\u001b[1m22/22\u001b[0m \u001b[32m━━━━━━━━━━━━━━━━━━━━\u001b[0m\u001b[37m\u001b[0m \u001b[1m20s\u001b[0m 772ms/step - accuracy: 0.9863 - loss: 0.0518 - val_accuracy: 0.8824 - val_loss: 0.3180\n",
            "Epoch 8/8\n",
            "\u001b[1m22/22\u001b[0m \u001b[32m━━━━━━━━━━━━━━━━━━━━\u001b[0m\u001b[37m\u001b[0m \u001b[1m20s\u001b[0m 754ms/step - accuracy: 0.9830 - loss: 0.0578 - val_accuracy: 0.8706 - val_loss: 0.3588\n"
          ]
        }
      ],
      "source": [
        "# Input layer\n",
        "input_layer = Input(shape=(300,), dtype='int32')\n",
        "\n",
        "# Embedding layer (replace with pre-trained embeddings if available)\n",
        "embedding_layer = Embedding(input_dim=20001, output_dim=256, trainable=True)(input_layer)\n",
        "\n",
        "# First Conv1D block with residual connection\n",
        "conv1 = Conv1D(filters=256, kernel_size=7, activation='relu', padding='same')(embedding_layer)\n",
        "dropout1 = Dropout(0.2)(conv1)\n",
        "\n",
        "# Second Conv1D block\n",
        "conv2 = Conv1D(filters=64, kernel_size=5, activation='relu', padding='same')(dropout1)\n",
        "dropout2 = Dropout(0.45)(conv2)\n",
        "\n",
        "# Global MaxPooling after both Conv1D blocks\n",
        "pooled = GlobalMaxPooling1D()(dropout2)\n",
        "\n",
        "# Fully connected layer\n",
        "dense = Dense(128, activation='relu')(pooled)\n",
        "dropout3 = Dropout(0.5)(dense)\n",
        "\n",
        "# Output layer for binary classification\n",
        "output = Dense(1, activation='sigmoid')(dropout3)\n",
        "\n",
        "# Compile model\n",
        "model = Model(inputs=input_layer, outputs=output)\n",
        "model.compile(optimizer='adam', loss='binary_crossentropy', metrics=['accuracy'])\n",
        "\n",
        "# Summary for debugging\n",
        "model.summary()\n",
        "\n",
        "# Define early stopping callback\n",
        "early_stopping = EarlyStopping(\n",
        "    monitor='val_loss',         # Monitor validation loss\n",
        "    patience=3,                 # Stop if no improvement for 3 consecutive epochs\n",
        "    restore_best_weights=True   # Restore model weights from the best epoch\n",
        ")\n",
        "\n",
        "# Train the model with early stopping\n",
        "history = model.fit(\n",
        "    X_train,\n",
        "    y_train,\n",
        "    validation_data=(X_test, y_test),\n",
        "    epochs=8,                         # Set a high number of epochs for tuning\n",
        "    batch_size=32,\n",
        "    class_weight=class_weights_dict,  # Apply class weights\n",
        "    callbacks=[early_stopping]        # Add early stopping\n",
        ")"
      ]
    },
    {
      "cell_type": "markdown",
      "metadata": {
        "id": "_x0yEWN66b1n"
      },
      "source": [
        "# HyperParameter Tuning\n",
        "\n",
        "DON'T RUN\n",
        "\n",
        "Tuning the model params\n",
        "\n",
        "*   Best Conv1 Filters: 256\n",
        "*   Best Conv1 Kernel Size: 7\n",
        "*   Best Dropout1: 0.2\n",
        "*   Best Conv2 Filters: 64\n",
        "*   Best Conv2 Kernel Size: 3\n",
        "*   Best Dropout2: 0.45\n",
        "*   Best Dense Units: 128\n",
        "*   Best Dropout3: 0.5\n",
        "*   Best Learning Rate: 0.001\n",
        "*   Epoch: 8"
      ]
    },
    {
      "cell_type": "code",
      "execution_count": null,
      "metadata": {
        "colab": {
          "base_uri": "https://localhost:8080/"
        },
        "id": "m_t7KKKk6iHk",
        "outputId": "a0ff6151-7f4b-48b0-9b50-7d928374b758"
      },
      "outputs": [
        {
          "name": "stdout",
          "output_type": "stream",
          "text": [
            "Trial 20 Complete [00h 06m 56s]\n",
            "val_accuracy: 0.6376811861991882\n",
            "\n",
            "Best val_accuracy So Far: 0.6501035094261169\n",
            "Total elapsed time: 02h 23m 09s\n",
            "Best Conv1 Filters: 256\n",
            "Best Conv1 Kernel Size: 7\n",
            "Best Dropout1: 0.2\n",
            "Best Conv2 Filters: 64\n",
            "Best Conv2 Kernel Size: 5\n",
            "Best Dropout2: 0.45\n",
            "Best Dense Units: 128\n",
            "Best Dropout3: 0.5\n",
            "Best Learning Rate: 0.001\n"
          ]
        }
      ],
      "source": [
        "# Install and Import Required Libraries\n",
        "!pip install keras-tuner\n",
        "import keras_tuner as kt\n",
        "from tensorflow.keras.models import Model\n",
        "from tensorflow.keras.layers import Input, Embedding, Conv1D, Dropout, GlobalMaxPooling1D, Dense, BatchNormalization, Add\n",
        "from tensorflow.keras.optimizers import Adam\n",
        "from keras_tuner.tuners import RandomSearch\n",
        "\n",
        "# Function to build the model with tunable hyperparameters\n",
        "def build_model(hp):\n",
        "    input_layer = Input(shape=(300,), dtype='int32')\n",
        "\n",
        "    # Embedding Layer\n",
        "    embedding_layer = Embedding(input_dim=20001, output_dim=256, trainable=True)(input_layer)\n",
        "\n",
        "    # First Conv1D Block\n",
        "    conv1_filters = hp.Choice('conv1_filters', [64, 128, 256])  # Tunable filter size\n",
        "    conv1_kernel = hp.Choice('conv1_kernel', [3, 5, 7])  # Tunable kernel size\n",
        "    conv1 = Conv1D(filters=conv1_filters, kernel_size=conv1_kernel, activation='relu', padding='same')(embedding_layer)\n",
        "    conv1 = BatchNormalization()(conv1)\n",
        "    dropout1 = Dropout(hp.Float('dropout1', 0.2, 0.4, step=0.05))(conv1)  # Tunable dropout\n",
        "\n",
        "    # Second Conv1D Block\n",
        "    conv2_filters = hp.Choice('conv2_filters', [64, 128])  # Tunable filter size\n",
        "    conv2_kernel = hp.Choice('conv2_kernel', [3, 5])  # Tunable kernel size\n",
        "    conv2 = Conv1D(filters=conv2_filters, kernel_size=conv2_kernel, activation='relu', padding='same')(dropout1)\n",
        "    conv2 = BatchNormalization()(conv2)\n",
        "    dropout2 = Dropout(hp.Float('dropout2', 0.3, 0.5, step=0.05))(conv2)\n",
        "\n",
        "    # **Fixed Residual Connection**\n",
        "    residual = Conv1D(filters=conv2_filters, kernel_size=1, padding=\"same\")(dropout1)\n",
        "    residual = Add()([residual, dropout2])\n",
        "\n",
        "    # Global Max Pooling\n",
        "    pooled = GlobalMaxPooling1D()(residual)\n",
        "\n",
        "    # Fully Connected Layer\n",
        "    dense_units = hp.Choice('dense_units', [64, 128, 256])  # Tunable dense units\n",
        "    dense = Dense(dense_units, activation='relu')(pooled)\n",
        "    dropout3 = Dropout(hp.Float('dropout3', 0.4, 0.6, step=0.05))(dense)  # Tunable dropout\n",
        "\n",
        "    # Output Layer\n",
        "    output = Dense(1, activation='sigmoid')(dropout3)\n",
        "\n",
        "    # Compile the Model with Tunable Learning Rate\n",
        "    learning_rate = hp.Choice('learning_rate', [1e-3, 5e-4, 1e-4])\n",
        "    model = Model(inputs=input_layer, outputs=output)\n",
        "    model.compile(optimizer=Adam(learning_rate), loss='binary_crossentropy', metrics=['accuracy'])\n",
        "\n",
        "    return model\n",
        "\n",
        "\n",
        "# Define the Hyperparameter Tuner\n",
        "tuner = RandomSearch(\n",
        "    build_model,\n",
        "    objective='val_accuracy',  # Optimize validation accuracy\n",
        "    max_trials=20,            # Increased trials for better tuning\n",
        "    executions_per_trial=1,   # Run each model once per trial\n",
        "    directory='tuner_results',  # Save results here\n",
        "    project_name='cnn_hyperparameter_tuning'\n",
        ")\n",
        "\n",
        "# Start Hyperparameter Search\n",
        "tuner.search(X_train, y_train, validation_data=(X_test, y_test), epochs=10, batch_size=32)\n",
        "\n",
        "# Get the Best Hyperparameters\n",
        "best_hps = tuner.get_best_hyperparameters(num_trials=1)[0]\n",
        "\n",
        "# Print the Best Tuned Hyperparameters\n",
        "print(f\"Best Conv1 Filters: {best_hps.get('conv1_filters')}\")\n",
        "print(f\"Best Conv1 Kernel Size: {best_hps.get('conv1_kernel')}\")\n",
        "print(f\"Best Dropout1: {best_hps.get('dropout1')}\")\n",
        "print(f\"Best Conv2 Filters: {best_hps.get('conv2_filters')}\")\n",
        "print(f\"Best Conv2 Kernel Size: {best_hps.get('conv2_kernel')}\")\n",
        "print(f\"Best Dropout2: {best_hps.get('dropout2')}\")\n",
        "print(f\"Best Dense Units: {best_hps.get('dense_units')}\")\n",
        "print(f\"Best Dropout3: {best_hps.get('dropout3')}\")\n",
        "print(f\"Best Learning Rate: {best_hps.get('learning_rate')}\")"
      ]
    },
    {
      "cell_type": "markdown",
      "metadata": {
        "id": "LGNGRKbKH3ZJ"
      },
      "source": [
        "# Evaluation\n",
        "Evaluate the model on the test set and visualize results.\n"
      ]
    },
    {
      "cell_type": "code",
      "execution_count": null,
      "metadata": {
        "colab": {
          "base_uri": "https://localhost:8080/",
          "height": 1000
        },
        "id": "RzpbjKqqG6PI",
        "outputId": "f0b2ded5-c497-4bff-b800-bc95e289bf11"
      },
      "outputs": [
        {
          "name": "stdout",
          "output_type": "stream",
          "text": [
            "\u001b[1m6/6\u001b[0m \u001b[32m━━━━━━━━━━━━━━━━━━━━\u001b[0m\u001b[37m\u001b[0m \u001b[1m2s\u001b[0m 292ms/step - accuracy: 0.8785 - loss: 0.2743\n",
            "Test Loss: 0.26290297508239746\n",
            "Test Accuracy: 0.8941176533699036\n",
            "\u001b[1m6/6\u001b[0m \u001b[32m━━━━━━━━━━━━━━━━━━━━\u001b[0m\u001b[37m\u001b[0m \u001b[1m2s\u001b[0m 309ms/step\n",
            "                                           func_text  Actual  \\\n",
            "0  import os def execute_user_input():     user_i...       1   \n",
            "1  import pickle import os import subprocess  cla...       0   \n",
            "2  import sqlite3 from flask import Flask, reques...       0   \n",
            "3  import os  def unsafe_function(user_input):   ...       1   \n",
            "4  import ast import operator as op  allowed_oper...       0   \n",
            "\n",
            "   Predicted_Probability  Predicted_Class  \n",
            "0               0.997574                1  \n",
            "1               0.000909                0  \n",
            "2               0.024400                0  \n",
            "3               0.997046                1  \n",
            "4               0.000525                0  \n"
          ]
        },
        {
          "data": {
            "image/png": "[encoded data removed]",
            "text/plain": [
              "<Figure size 640x480 with 2 Axes>"
            ]
          },
          "metadata": {},
          "output_type": "display_data"
        },
        {
          "name": "stdout",
          "output_type": "stream",
          "text": [
            "              precision    recall  f1-score   support\n",
            "\n",
            "           0       0.89      0.89      0.89        80\n",
            "           1       0.90      0.90      0.90        90\n",
            "\n",
            "    accuracy                           0.89       170\n",
            "   macro avg       0.89      0.89      0.89       170\n",
            "weighted avg       0.89      0.89      0.89       170\n",
            "\n",
            "AUC Score: 0.8937499999999999\n"
          ]
        },
        {
          "data": {
            "image/png": "[encoded data removed]",
            "text/plain": [
              "<Figure size 800x600 with 1 Axes>"
            ]
          },
          "metadata": {},
          "output_type": "display_data"
        },
        {
          "name": "stderr",
          "output_type": "stream",
          "text": [
            "WARNING:absl:You are saving your model as an HDF5 file via `model.save()` or `keras.saving.save_model(model)`. This file format is considered legacy. We recommend using instead the native Keras format, e.g. `model.save('my_model.keras')` or `keras.saving.save_model(model, 'my_model.keras')`. \n"
          ]
        }
      ],
      "source": [
        "# Evaluate the model\n",
        "loss, accuracy = model.evaluate(X_test, y_test)\n",
        "print(f\"Test Loss: {loss}\")\n",
        "print(f\"Test Accuracy: {accuracy}\")\n",
        "\n",
        "# Make predictions on the test data\n",
        "y_pred = model.predict(X_test)\n",
        "\n",
        "# Retain the raw probabilities for now\n",
        "# TODO: Finetune to prediction threshold\n",
        "y_pred_classes = (y_pred > 0.5).astype(\"int32\")\n",
        "\n",
        "# Create DataFrame with corresponding `func_text` and probabilities\n",
        "results_df = pd.DataFrame({\n",
        "    'func_text': func_test.reset_index(drop=True),           # The original function text (no tokenization)\n",
        "    'Actual': y_test,                                        # Actual labels\n",
        "    'Predicted_Probability': y_pred.flatten(),               # Raw predicted probabilities\n",
        "    'Predicted_Class': y_pred_classes.flatten()              # Predicted class (0 or 1)\n",
        "})\n",
        "\n",
        "# Save results to a CSV file\n",
        "results_df.to_csv('model_results.csv', index=False)\n",
        "\n",
        "# Display the first few rows of the prediction results\n",
        "print(results_df.head())\n",
        "\n",
        "\n",
        "# Confusion matrix\n",
        "conf_matrix = confusion_matrix(y_test, y_pred_classes)\n",
        "sns.heatmap(conf_matrix, annot=True, fmt='d')\n",
        "plt.title(\"Confusion Matrix\")\n",
        "plt.show()\n",
        "\n",
        "# Classification report\n",
        "print(classification_report(y_test, y_pred_classes))\n",
        "\n",
        "# AUC score\n",
        "auc = roc_auc_score(y_test, y_pred_classes)\n",
        "print(f\"AUC Score: {auc}\")\n",
        "\n",
        "\n",
        "# Plot training and validation loss\n",
        "plt.figure(figsize=(8, 6))\n",
        "plt.plot(history.history['loss'], label='Training Loss')\n",
        "plt.plot(history.history['val_loss'], label='Validation Loss')\n",
        "plt.title('Training and Validation Loss')\n",
        "plt.xlabel('Epochs')\n",
        "plt.ylabel('Loss')\n",
        "plt.legend()\n",
        "plt.grid()\n",
        "plt.show()\n",
        "\n",
        "# model.save(\"cnn_python_model.h5\")"
      ]
    },
    {
      "cell_type": "code",
      "execution_count": null,
      "metadata": {
        "id": "hhDGY2m3Kol2"
      },
      "outputs": [],
      "source": []
    },
    {
      "cell_type": "markdown",
      "metadata": {
        "id": "-VJWLIqE4Fy9"
      },
      "source": [
        "# Threshold Finetuning"
      ]
    },
    {
      "cell_type": "code",
      "execution_count": 12,
      "metadata": {
        "colab": {
          "base_uri": "https://localhost:8080/",
          "height": 1000
        },
        "id": "KaKW9YNv4K6n",
        "outputId": "48e4efb2-5c72-43bb-c80d-493b8eb77d11"
      },
      "outputs": [
        {
          "name": "stdout",
          "output_type": "stream",
          "text": [
            "ROC AUC: 0.9612499999999999\n"
          ]
        },
        {
          "data": {
            "image/png": "[encoded data removed]",
            "text/plain": [
              "<Figure size 800x600 with 1 Axes>"
            ]
          },
          "metadata": {},
          "output_type": "display_data"
        },
        {
          "data": {
            "image/png": "[encoded data removed]",
            "text/plain": [
              "<Figure size 800x600 with 1 Axes>"
            ]
          },
          "metadata": {},
          "output_type": "display_data"
        },
        {
          "name": "stdout",
          "output_type": "stream",
          "text": [
            "Candidate Thresholds with Recall >= 0.90:\n",
            "Threshold: 0.00 | Precision: 0.53 | Recall: 1.00 | F1: 0.69 | FP: 80 | FN: 0\n",
            "Threshold: 0.01 | Precision: 0.74 | Recall: 1.00 | F1: 0.85 | FP: 31 | FN: 0\n",
            "Threshold: 0.02 | Precision: 0.78 | Recall: 1.00 | F1: 0.87 | FP: 26 | FN: 0\n",
            "Threshold: 0.03 | Precision: 0.79 | Recall: 1.00 | F1: 0.88 | FP: 24 | FN: 0\n",
            "Threshold: 0.04 | Precision: 0.81 | Recall: 1.00 | F1: 0.90 | FP: 21 | FN: 0\n",
            "Threshold: 0.05 | Precision: 0.82 | Recall: 1.00 | F1: 0.90 | FP: 20 | FN: 0\n",
            "Threshold: 0.06 | Precision: 0.82 | Recall: 0.99 | F1: 0.90 | FP: 19 | FN: 1\n",
            "Threshold: 0.07 | Precision: 0.84 | Recall: 0.98 | F1: 0.90 | FP: 17 | FN: 2\n",
            "Threshold: 0.08 | Precision: 0.84 | Recall: 0.98 | F1: 0.90 | FP: 17 | FN: 2\n",
            "Threshold: 0.09 | Precision: 0.84 | Recall: 0.98 | F1: 0.90 | FP: 17 | FN: 2\n",
            "Threshold: 0.10 | Precision: 0.84 | Recall: 0.98 | F1: 0.90 | FP: 17 | FN: 2\n",
            "Threshold: 0.11 | Precision: 0.84 | Recall: 0.98 | F1: 0.90 | FP: 17 | FN: 2\n",
            "Threshold: 0.12 | Precision: 0.85 | Recall: 0.98 | F1: 0.91 | FP: 16 | FN: 2\n",
            "Threshold: 0.13 | Precision: 0.84 | Recall: 0.97 | F1: 0.90 | FP: 16 | FN: 3\n",
            "Threshold: 0.14 | Precision: 0.84 | Recall: 0.97 | F1: 0.90 | FP: 16 | FN: 3\n",
            "Threshold: 0.15 | Precision: 0.85 | Recall: 0.96 | F1: 0.90 | FP: 15 | FN: 4\n",
            "Threshold: 0.16 | Precision: 0.85 | Recall: 0.96 | F1: 0.90 | FP: 15 | FN: 4\n",
            "Threshold: 0.17 | Precision: 0.86 | Recall: 0.96 | F1: 0.91 | FP: 14 | FN: 4\n",
            "Threshold: 0.18 | Precision: 0.86 | Recall: 0.96 | F1: 0.91 | FP: 14 | FN: 4\n",
            "Threshold: 0.19 | Precision: 0.86 | Recall: 0.94 | F1: 0.90 | FP: 14 | FN: 5\n",
            "Threshold: 0.20 | Precision: 0.87 | Recall: 0.94 | F1: 0.90 | FP: 13 | FN: 5\n",
            "Threshold: 0.21 | Precision: 0.87 | Recall: 0.94 | F1: 0.90 | FP: 13 | FN: 5\n",
            "Threshold: 0.22 | Precision: 0.87 | Recall: 0.94 | F1: 0.90 | FP: 13 | FN: 5\n",
            "Threshold: 0.23 | Precision: 0.87 | Recall: 0.94 | F1: 0.90 | FP: 13 | FN: 5\n",
            "Threshold: 0.24 | Precision: 0.87 | Recall: 0.94 | F1: 0.90 | FP: 13 | FN: 5\n",
            "Threshold: 0.25 | Precision: 0.87 | Recall: 0.94 | F1: 0.90 | FP: 13 | FN: 5\n",
            "Threshold: 0.26 | Precision: 0.88 | Recall: 0.94 | F1: 0.91 | FP: 12 | FN: 5\n",
            "Threshold: 0.27 | Precision: 0.88 | Recall: 0.94 | F1: 0.91 | FP: 12 | FN: 5\n",
            "Threshold: 0.28 | Precision: 0.88 | Recall: 0.94 | F1: 0.91 | FP: 12 | FN: 5\n",
            "Threshold: 0.29 | Precision: 0.88 | Recall: 0.93 | F1: 0.90 | FP: 12 | FN: 6\n",
            "Threshold: 0.30 | Precision: 0.88 | Recall: 0.93 | F1: 0.90 | FP: 12 | FN: 6\n",
            "Threshold: 0.31 | Precision: 0.88 | Recall: 0.93 | F1: 0.90 | FP: 12 | FN: 6\n",
            "Threshold: 0.32 | Precision: 0.88 | Recall: 0.93 | F1: 0.90 | FP: 12 | FN: 6\n",
            "Threshold: 0.33 | Precision: 0.88 | Recall: 0.93 | F1: 0.90 | FP: 12 | FN: 6\n",
            "Threshold: 0.34 | Precision: 0.88 | Recall: 0.93 | F1: 0.91 | FP: 11 | FN: 6\n",
            "Threshold: 0.35 | Precision: 0.88 | Recall: 0.93 | F1: 0.91 | FP: 11 | FN: 6\n",
            "Threshold: 0.36 | Precision: 0.88 | Recall: 0.93 | F1: 0.91 | FP: 11 | FN: 6\n",
            "Threshold: 0.37 | Precision: 0.88 | Recall: 0.93 | F1: 0.91 | FP: 11 | FN: 6\n",
            "Threshold: 0.38 | Precision: 0.88 | Recall: 0.92 | F1: 0.90 | FP: 11 | FN: 7\n",
            "Threshold: 0.39 | Precision: 0.88 | Recall: 0.92 | F1: 0.90 | FP: 11 | FN: 7\n",
            "Threshold: 0.40 | Precision: 0.89 | Recall: 0.92 | F1: 0.91 | FP: 10 | FN: 7\n",
            "Threshold: 0.41 | Precision: 0.89 | Recall: 0.92 | F1: 0.91 | FP: 10 | FN: 7\n",
            "Threshold: 0.42 | Precision: 0.89 | Recall: 0.92 | F1: 0.91 | FP: 10 | FN: 7\n",
            "Threshold: 0.43 | Precision: 0.89 | Recall: 0.92 | F1: 0.91 | FP: 10 | FN: 7\n",
            "Threshold: 0.44 | Precision: 0.89 | Recall: 0.92 | F1: 0.91 | FP: 10 | FN: 7\n",
            "Threshold: 0.45 | Precision: 0.89 | Recall: 0.92 | F1: 0.91 | FP: 10 | FN: 7\n",
            "Threshold: 0.46 | Precision: 0.89 | Recall: 0.92 | F1: 0.91 | FP: 10 | FN: 7\n",
            "Threshold: 0.47 | Precision: 0.89 | Recall: 0.92 | F1: 0.91 | FP: 10 | FN: 7\n",
            "Threshold: 0.48 | Precision: 0.89 | Recall: 0.91 | F1: 0.90 | FP: 10 | FN: 8\n",
            "Threshold: 0.49 | Precision: 0.89 | Recall: 0.90 | F1: 0.90 | FP: 10 | FN: 9\n",
            "Threshold: 0.50 | Precision: 0.90 | Recall: 0.90 | F1: 0.90 | FP: 9 | FN: 9\n",
            "Threshold: 0.51 | Precision: 0.90 | Recall: 0.90 | F1: 0.90 | FP: 9 | FN: 9\n",
            "Threshold: 0.52 | Precision: 0.90 | Recall: 0.90 | F1: 0.90 | FP: 9 | FN: 9\n",
            "\n",
            "Optimal Threshold Selected: 0.26\n",
            "\n",
            "Confusion Matrix at Optimal Threshold:\n",
            "TN: 68, FP: 12, FN: 5, TP: 85\n"
          ]
        }
      ],
      "source": [
        "# Ensure predicted probabilities are in a 1D array\n",
        "y_true = y_test\n",
        "y_scores = y_pred.flatten()\n",
        "\n",
        "# --------------------------\n",
        "# 1. ROC Curve\n",
        "# --------------------------\n",
        "fpr, tpr, roc_thresholds = roc_curve(y_true, y_scores)\n",
        "roc_auc_value = auc(fpr, tpr)\n",
        "\n",
        "print(\"ROC AUC:\", roc_auc_value)\n",
        "\n",
        "plt.figure(figsize=(8, 6))\n",
        "plt.plot(fpr, tpr, label=f'ROC curve (AUC = {roc_auc_value:.2f})')\n",
        "plt.plot([0, 1], [0, 1], 'k--', label='Random Chance')\n",
        "plt.xlabel('False Positive Rate')\n",
        "plt.ylabel('True Positive Rate')\n",
        "plt.title('Receiver Operating Characteristic (ROC) Curve')\n",
        "plt.legend(loc=\"lower right\")\n",
        "plt.grid(True)\n",
        "plt.show()\n",
        "\n",
        "# --------------------------\n",
        "# 2. Precision-Recall Curve\n",
        "# --------------------------\n",
        "precisions, recalls, pr_thresholds = precision_recall_curve(y_true, y_scores)\n",
        "\n",
        "plt.figure(figsize=(8, 6))\n",
        "plt.plot(recalls, precisions, label='Precision-Recall Curve')\n",
        "plt.xlabel('Recall')\n",
        "plt.ylabel('Precision')\n",
        "plt.title('Precision-Recall Curve')\n",
        "plt.legend(loc=\"lower left\")\n",
        "plt.grid(True)\n",
        "plt.show()\n",
        "\n",
        "# --------------------------\n",
        "# 3. Grid Search for Optimal Threshold\n",
        "# --------------------------\n",
        "# Create an array of candidate thresholds\n",
        "candidate_thresholds = np.arange(0.0, 1.0, 0.01)\n",
        "metrics_list = []\n",
        "\n",
        "# Loop through each candidate threshold to calculate performance metrics\n",
        "for threshold in candidate_thresholds:\n",
        "    # Convert probabilities to class predictions based on the current threshold\n",
        "    y_pred_thresh = (y_scores >= threshold).astype(int)\n",
        "\n",
        "    # Calculate confusion matrix components\n",
        "    tn, fp, fn, tp = confusion_matrix(y_true, y_pred_thresh).ravel()\n",
        "\n",
        "    # Calculate precision, recall, and F1 score\n",
        "    precision_val = tp / (tp + fp) if (tp + fp) > 0 else 0\n",
        "    recall_val = tp / (tp + fn) if (tp + fn) > 0 else 0\n",
        "    f1 = f1_score(y_true, y_pred_thresh)\n",
        "\n",
        "    metrics_list.append({\n",
        "        'threshold': threshold,\n",
        "        'precision': precision_val,\n",
        "        'recall': recall_val,\n",
        "        'f1': f1,\n",
        "        'false_positives': fp,\n",
        "        'false_negatives': fn\n",
        "    })\n",
        "\n",
        "# Display metrics for candidate thresholds with high recall (e.g., recall >= 0.90)\n",
        "target_recall = 0.90\n",
        "print(\"Candidate Thresholds with Recall >= 0.90:\")\n",
        "for m in metrics_list:\n",
        "    if m['recall'] >= target_recall:\n",
        "        print(f\"Threshold: {m['threshold']:.2f} | Precision: {m['precision']:.2f} | Recall: {m['recall']:.2f} | F1: {m['f1']:.2f} | FP: {m['false_positives']} | FN: {m['false_negatives']}\")\n",
        "\n",
        "# Select the optimal threshold.\n",
        "# For instance, choose the threshold with the highest F1 score among those with recall >= target_recall.\n",
        "eligible_thresholds = [m for m in metrics_list if m['recall'] >= target_recall]\n",
        "if eligible_thresholds:\n",
        "    best_metric = max(eligible_thresholds, key=lambda x: x['f1'])\n",
        "    optimal_threshold = best_metric['threshold']\n",
        "    print(f\"\\nOptimal Threshold Selected: {optimal_threshold:.2f}\")\n",
        "else:\n",
        "    optimal_threshold = 0.5  # Default threshold if no candidate meets the target recall\n",
        "    print(\"\\nNo candidate threshold met the target recall. Using default threshold 0.5.\")\n",
        "\n",
        "# Apply the optimal threshold to obtain final class predictions\n",
        "y_pred_optimal = (y_scores >= optimal_threshold).astype(int)\n",
        "\n",
        "# Optional: Display confusion matrix for the chosen threshold\n",
        "tn, fp, fn, tp = confusion_matrix(y_true, y_pred_optimal).ravel()\n",
        "print(\"\\nConfusion Matrix at Optimal Threshold:\")\n",
        "print(f\"TN: {tn}, FP: {fp}, FN: {fn}, TP: {tp}\")"
      ]
    }
  ],
  "metadata": {
    "colab": {
      "provenance": []
    },
    "kernelspec": {
      "display_name": "Python 3",
      "name": "python3"
    },
    "language_info": {
      "name": "python"
    }
  },
  "nbformat": 4,
  "nbformat_minor": 0
}
