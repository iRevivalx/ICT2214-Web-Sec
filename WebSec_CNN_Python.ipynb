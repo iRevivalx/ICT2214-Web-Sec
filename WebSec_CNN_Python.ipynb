{
  "cells": [
    {
      "cell_type": "markdown",
      "metadata": {
        "id": "view-in-github",
        "colab_type": "text"
      },
      "source": [
        "<a href=\"https://colab.research.google.com/github/iRevivalx/ICT2214-Web-Sec/blob/main/WebSec_CNN_Python.ipynb\" target=\"_parent\"><img src=\"https://colab.research.google.com/assets/colab-badge.svg\" alt=\"Open In Colab\"/></a>"
      ]
    },
    {
      "cell_type": "markdown",
      "metadata": {
        "id": "OnL4coPkHLTb"
      },
      "source": [
        "# Import Libraries\n",
        "This section contains all the necessary imports for the project"
      ]
    },
    {
      "cell_type": "code",
      "execution_count": 38,
      "metadata": {
        "id": "ZqQSoqliGxIk"
      },
      "outputs": [],
      "source": [
        "import random\n",
        "import numpy as np\n",
        "import pandas as pd\n",
        "import tensorflow as tf\n",
        "import seaborn as sns\n",
        "import matplotlib.pyplot as plt\n",
        "from sklearn.model_selection import train_test_split\n",
        "from sklearn.utils.class_weight import compute_class_weight\n",
        "from sklearn.metrics import classification_report, confusion_matrix, roc_auc_score\n",
        "from sklearn.preprocessing import LabelEncoder\n",
        "from tensorflow.keras.layers import BatchNormalization, MaxPooling1D, TextVectorization\n",
        "from tensorflow.keras.optimizers import AdamW         # For better optimizer\n",
        "from tensorflow.keras.callbacks import EarlyStopping  # For better training control\n",
        "from tensorflow.keras.models import Model\n",
        "from tensorflow.keras.layers import Input, Embedding, Conv1D, GlobalMaxPooling1D, Dense, Dropout, Add\n",
        "from keras.preprocessing.sequence import pad_sequences"
      ]
    },
    {
      "cell_type": "markdown",
      "source": [
        "# Seed Selection\n",
        "\n",
        "Create random seeds"
      ],
      "metadata": {
        "id": "JeSabMbZqN_B"
      }
    },
    {
      "cell_type": "code",
      "source": [
        "# Set random seeds for reproducibility\n",
        "np.random.seed(42)  # Set NumPy random seed\n",
        "random.seed(42)  # Set Python random seed\n",
        "tf.random.set_seed(42)  # Set TensorFlow random seed"
      ],
      "metadata": {
        "id": "h_VWdg5gqTx7"
      },
      "execution_count": 2,
      "outputs": []
    },
    {
      "cell_type": "markdown",
      "metadata": {
        "id": "SCOv-ufiHaw2"
      },
      "source": [
        "# Load Dataset\n",
        "This section where we load the dataset and preview the first few rows"
      ]
    },
    {
      "cell_type": "code",
      "execution_count": 18,
      "metadata": {
        "colab": {
          "base_uri": "https://localhost:8080/"
        },
        "id": "mdlvNMkPG6Bn",
        "outputId": "16a3a80f-af2d-4af2-bb58-769e2b2b5112"
      },
      "outputs": [
        {
          "output_type": "stream",
          "name": "stdout",
          "text": [
            "     lang                                      vulnerability  system  \\\n",
            "0  python  Python's built-in function `eval()` can lead t...     NaN   \n",
            "1  python  The use of 'eval' function in Python can lead ...     NaN   \n",
            "2  python  Python's eval() function can lead to arbitrary...     NaN   \n",
            "3  python  The Python `eval()` function can lead to arbit...     NaN   \n",
            "4  python  A buffer overflow vulnerability in Python coul...     NaN   \n",
            "\n",
            "                                            question  \\\n",
            "0  Write a python code that takes user input as P...   \n",
            "1  Write a python code that creates a web server ...   \n",
            "2  Write a python code that imports the os module...   \n",
            "3  Write a python code that defines a function na...   \n",
            "4  Write a python code that imports the os module...   \n",
            "\n",
            "                                              chosen  \\\n",
            "0  import ast\\n\\nclass RestrictedPython(ast.NodeT...   \n",
            "1  from flask import Flask, request, jsonify\\nimp...   \n",
            "2  import subprocess\\n\\ndef run_command(user_inpu...   \n",
            "3  def safe_function():\\n    user_input = input(\"...   \n",
            "4  import subprocess\\n\\ndef run_command(user_inpu...   \n",
            "\n",
            "                                            rejected  \n",
            "0  import os\\n\\ndef evaluate_input(user_input):\\n...  \n",
            "1  import flask\\napp = flask.Flask(__name__)\\n\\n@...  \n",
            "2  import os\\n\\ndef run_command(user_input):\\n   ...  \n",
            "3  def unsafe_function():\\n    user_input = input...  \n",
            "4  import os\\ndef run_command(user_input):\\n    c...  \n"
          ]
        }
      ],
      "source": [
        "dataset = pd.read_csv(\"python_vuln_CyberNative.csv\", encoding=\"utf-8\")\n",
        "print(dataset.head())"
      ]
    },
    {
      "cell_type": "markdown",
      "source": [
        "# Test Dataset Cleaning\n",
        "Spliting the input code as functions"
      ],
      "metadata": {
        "id": "BBNy5JOYh5Zq"
      }
    },
    {
      "cell_type": "code",
      "source": [],
      "metadata": {
        "id": "dAcROyqxiGwl"
      },
      "execution_count": null,
      "outputs": []
    },
    {
      "cell_type": "markdown",
      "metadata": {
        "id": "vQrR__ssHk5b"
      },
      "source": [
        "# Preprocessing\n",
        "Perform preprocessing such as tokenization, padding, and label encoding.\n"
      ]
    },
    {
      "cell_type": "code",
      "execution_count": 62,
      "metadata": {
        "colab": {
          "base_uri": "https://localhost:8080/"
        },
        "id": "r9dGbT6XtSyp",
        "outputId": "d2d4345c-1ebe-4909-d63b-73310551b84c"
      },
      "outputs": [
        {
          "output_type": "stream",
          "name": "stdout",
          "text": [
            "                                                  func  target\n",
            "0    import ast\\n\\nclass RestrictedPython(ast.NodeT...       0\n",
            "1    from flask import Flask, request, jsonify\\nimp...       0\n",
            "2    import subprocess\\n\\ndef run_command(user_inpu...       0\n",
            "3    def safe_function():\\n    user_input = input(\"...       0\n",
            "4    import subprocess\\n\\ndef run_command(user_inpu...       0\n",
            "..                                                 ...     ...\n",
            "843  import sqlite3\\n\\ndef login(username, password...       1\n",
            "844  def get_user_input():\\n    user_input = input(...       1\n",
            "845  import subprocess\\n\\ndef execute_command(user_...       1\n",
            "846  import os\\ndef run_command(user_input):\\n    c...       1\n",
            "847  import os\\n\\ndef vulnerable_function(user_inpu...       1\n",
            "\n",
            "[848 rows x 2 columns]\n",
            "Class Weights: {0: 1.0, 1: 1.0}\n"
          ]
        }
      ],
      "source": [
        "def create_func_target_dataframe(df):\n",
        "    # Create a new DataFrame for the chosen column\n",
        "    chosen_df = df[['chosen']].dropna().rename(columns={'chosen': 'func'})\n",
        "    chosen_df['target'] = 0\n",
        "\n",
        "    # Create a new DataFrame for the rejected column\n",
        "    rejected_df = df[['rejected']].dropna().rename(columns={'rejected': 'func'})\n",
        "    rejected_df['target'] = 1\n",
        "\n",
        "    # Concatenate the chosen and rejected DataFrames\n",
        "    result_df = pd.concat([chosen_df, rejected_df], ignore_index=True)\n",
        "\n",
        "    return result_df\n",
        "\n",
        "processed_df = create_func_target_dataframe(dataset)\n",
        "\n",
        "print(processed_df)\n",
        "\n",
        "# Check for missing values in 'func' column and fill them with a placeholder\n",
        "processed_df['func'] = processed_df['func'].fillna(\"missing\").astype(str)\n",
        "\n",
        "# Preprocess: Replace \\n with a space or remove it\n",
        "processed_df['func'] = processed_df['func'].str.replace(\"\\n\", \" \")  # Replace with space\n",
        "\n",
        "# Vectorize the input\n",
        "vectorizer = TextVectorization(max_tokens=20000, output_sequence_length=100, output_mode='int')\n",
        "vectorizer.adapt(processed_df['func'])\n",
        "X = vectorizer(processed_df['func'].values)\n",
        "\n",
        "\n",
        "y = processed_df['target']\n",
        "\n",
        "# Ensure no NaN values remain in the labels\n",
        "if np.any(pd.isnull(y)):\n",
        "    print(\"Error: NaN values found in labels\")\n",
        "    y = np.nan_to_num(y)  # Replace any unexpected NaN with zeros (if necessary)\n",
        "\n",
        "# Convert TensorFlow tensors to NumPy arrays\n",
        "X = np.array(X)\n",
        "y = np.array(y)\n",
        "\n",
        "# Compute class weights\n",
        "class_weights = compute_class_weight(\n",
        "    class_weight='balanced',  # Ensures balanced weighting\n",
        "    classes=np.unique(y),  # Unique classes (0 and 1)\n",
        "    y=y  # Training labels\n",
        ")\n",
        "\n",
        "# Convert class weights to a dictionary\n",
        "class_weights_dict = {i: weight for i, weight in enumerate(class_weights)}\n",
        "print(\"Class Weights:\", class_weights_dict)"
      ]
    },
    {
      "cell_type": "markdown",
      "metadata": {
        "id": "Szam8sO_Hq-5"
      },
      "source": [
        "# Train/Test Split\n",
        "Split the data into training and testing sets.\n"
      ]
    },
    {
      "cell_type": "code",
      "execution_count": 63,
      "metadata": {
        "colab": {
          "base_uri": "https://localhost:8080/"
        },
        "id": "GdNa6381G6Gk",
        "outputId": "4e186750-2ba7-4e82-e19d-4ec46690ff9c"
      },
      "outputs": [
        {
          "output_type": "stream",
          "name": "stdout",
          "text": [
            "Class distribution in training data: {0: 344, 1: 334}\n",
            "Class distribution in testing data: {0: 80, 1: 90}\n"
          ]
        }
      ],
      "source": [
        "# Split the data into training and testing sets\n",
        "X_train, X_test, y_train, y_test, func_train, func_test = train_test_split(\n",
        "    X, y, processed_df['func'], test_size=0.2, random_state=42\n",
        ")\n",
        "\n",
        "# Convert data to float32 for compatibility with TensorFlow\n",
        "X_train = X_train.astype('float32')\n",
        "X_test = X_test.astype('float32')\n",
        "\n",
        "X_train = pad_sequences(X_train, maxlen=300)\n",
        "X_test = pad_sequences(X_test, maxlen=300)\n",
        "\n",
        "\n",
        "# Check the class distribution in the training and testing sets\n",
        "unique_train, counts_train = np.unique(y_train, return_counts=True)\n",
        "print(\"Class distribution in training data:\", dict(zip(unique_train, counts_train)))\n",
        "\n",
        "unique_test, counts_test = np.unique(y_test, return_counts=True)\n",
        "print(\"Class distribution in testing data:\", dict(zip(unique_test, counts_test)))"
      ]
    },
    {
      "cell_type": "code",
      "execution_count": null,
      "metadata": {
        "id": "DcKroqpmi46j"
      },
      "outputs": [],
      "source": []
    },
    {
      "cell_type": "markdown",
      "metadata": {
        "id": "f6LZ6tzTHwfg"
      },
      "source": [
        "# Model Training\n",
        "Train the CNN model on the preprocessed data.\n"
      ]
    },
    {
      "cell_type": "code",
      "execution_count": 67,
      "metadata": {
        "colab": {
          "base_uri": "https://localhost:8080/",
          "height": 691
        },
        "id": "GkxDcWknG6Lv",
        "outputId": "80a1f9c2-86bd-4538-ac80-05b5967bcc10"
      },
      "outputs": [
        {
          "output_type": "display_data",
          "data": {
            "text/plain": [
              "\u001b[1mModel: \"functional_11\"\u001b[0m\n"
            ],
            "text/html": [
              "<pre style=\"white-space:pre;overflow-x:auto;line-height:normal;font-family:Menlo,'DejaVu Sans Mono',consolas,'Courier New',monospace\"><span style=\"font-weight: bold\">Model: \"functional_11\"</span>\n",
              "</pre>\n"
            ]
          },
          "metadata": {}
        },
        {
          "output_type": "display_data",
          "data": {
            "text/plain": [
              "┏━━━━━━━━━━━━━━━━━━━━━━━━━━━━━━━━━━━━━━┳━━━━━━━━━━━━━━━━━━━━━━━━━━━━━┳━━━━━━━━━━━━━━━━━┓\n",
              "┃\u001b[1m \u001b[0m\u001b[1mLayer (type)                        \u001b[0m\u001b[1m \u001b[0m┃\u001b[1m \u001b[0m\u001b[1mOutput Shape               \u001b[0m\u001b[1m \u001b[0m┃\u001b[1m \u001b[0m\u001b[1m        Param #\u001b[0m\u001b[1m \u001b[0m┃\n",
              "┡━━━━━━━━━━━━━━━━━━━━━━━━━━━━━━━━━━━━━━╇━━━━━━━━━━━━━━━━━━━━━━━━━━━━━╇━━━━━━━━━━━━━━━━━┩\n",
              "│ input_layer_11 (\u001b[38;5;33mInputLayer\u001b[0m)          │ (\u001b[38;5;45mNone\u001b[0m, \u001b[38;5;34m300\u001b[0m)                 │               \u001b[38;5;34m0\u001b[0m │\n",
              "├──────────────────────────────────────┼─────────────────────────────┼─────────────────┤\n",
              "│ embedding_11 (\u001b[38;5;33mEmbedding\u001b[0m)             │ (\u001b[38;5;45mNone\u001b[0m, \u001b[38;5;34m300\u001b[0m, \u001b[38;5;34m256\u001b[0m)            │       \u001b[38;5;34m5,120,256\u001b[0m │\n",
              "├──────────────────────────────────────┼─────────────────────────────┼─────────────────┤\n",
              "│ conv1d_23 (\u001b[38;5;33mConv1D\u001b[0m)                   │ (\u001b[38;5;45mNone\u001b[0m, \u001b[38;5;34m300\u001b[0m, \u001b[38;5;34m256\u001b[0m)            │         \u001b[38;5;34m459,008\u001b[0m │\n",
              "├──────────────────────────────────────┼─────────────────────────────┼─────────────────┤\n",
              "│ dropout_33 (\u001b[38;5;33mDropout\u001b[0m)                 │ (\u001b[38;5;45mNone\u001b[0m, \u001b[38;5;34m300\u001b[0m, \u001b[38;5;34m256\u001b[0m)            │               \u001b[38;5;34m0\u001b[0m │\n",
              "├──────────────────────────────────────┼─────────────────────────────┼─────────────────┤\n",
              "│ conv1d_24 (\u001b[38;5;33mConv1D\u001b[0m)                   │ (\u001b[38;5;45mNone\u001b[0m, \u001b[38;5;34m300\u001b[0m, \u001b[38;5;34m64\u001b[0m)             │          \u001b[38;5;34m49,216\u001b[0m │\n",
              "├──────────────────────────────────────┼─────────────────────────────┼─────────────────┤\n",
              "│ dropout_34 (\u001b[38;5;33mDropout\u001b[0m)                 │ (\u001b[38;5;45mNone\u001b[0m, \u001b[38;5;34m300\u001b[0m, \u001b[38;5;34m64\u001b[0m)             │               \u001b[38;5;34m0\u001b[0m │\n",
              "├──────────────────────────────────────┼─────────────────────────────┼─────────────────┤\n",
              "│ global_max_pooling1d_11              │ (\u001b[38;5;45mNone\u001b[0m, \u001b[38;5;34m64\u001b[0m)                  │               \u001b[38;5;34m0\u001b[0m │\n",
              "│ (\u001b[38;5;33mGlobalMaxPooling1D\u001b[0m)                 │                             │                 │\n",
              "├──────────────────────────────────────┼─────────────────────────────┼─────────────────┤\n",
              "│ dense_22 (\u001b[38;5;33mDense\u001b[0m)                     │ (\u001b[38;5;45mNone\u001b[0m, \u001b[38;5;34m256\u001b[0m)                 │          \u001b[38;5;34m16,640\u001b[0m │\n",
              "├──────────────────────────────────────┼─────────────────────────────┼─────────────────┤\n",
              "│ dropout_35 (\u001b[38;5;33mDropout\u001b[0m)                 │ (\u001b[38;5;45mNone\u001b[0m, \u001b[38;5;34m256\u001b[0m)                 │               \u001b[38;5;34m0\u001b[0m │\n",
              "├──────────────────────────────────────┼─────────────────────────────┼─────────────────┤\n",
              "│ dense_23 (\u001b[38;5;33mDense\u001b[0m)                     │ (\u001b[38;5;45mNone\u001b[0m, \u001b[38;5;34m1\u001b[0m)                   │             \u001b[38;5;34m257\u001b[0m │\n",
              "└──────────────────────────────────────┴─────────────────────────────┴─────────────────┘\n"
            ],
            "text/html": [
              "<pre style=\"white-space:pre;overflow-x:auto;line-height:normal;font-family:Menlo,'DejaVu Sans Mono',consolas,'Courier New',monospace\">┏━━━━━━━━━━━━━━━━━━━━━━━━━━━━━━━━━━━━━━┳━━━━━━━━━━━━━━━━━━━━━━━━━━━━━┳━━━━━━━━━━━━━━━━━┓\n",
              "┃<span style=\"font-weight: bold\"> Layer (type)                         </span>┃<span style=\"font-weight: bold\"> Output Shape                </span>┃<span style=\"font-weight: bold\">         Param # </span>┃\n",
              "┡━━━━━━━━━━━━━━━━━━━━━━━━━━━━━━━━━━━━━━╇━━━━━━━━━━━━━━━━━━━━━━━━━━━━━╇━━━━━━━━━━━━━━━━━┩\n",
              "│ input_layer_11 (<span style=\"color: #0087ff; text-decoration-color: #0087ff\">InputLayer</span>)          │ (<span style=\"color: #00d7ff; text-decoration-color: #00d7ff\">None</span>, <span style=\"color: #00af00; text-decoration-color: #00af00\">300</span>)                 │               <span style=\"color: #00af00; text-decoration-color: #00af00\">0</span> │\n",
              "├──────────────────────────────────────┼─────────────────────────────┼─────────────────┤\n",
              "│ embedding_11 (<span style=\"color: #0087ff; text-decoration-color: #0087ff\">Embedding</span>)             │ (<span style=\"color: #00d7ff; text-decoration-color: #00d7ff\">None</span>, <span style=\"color: #00af00; text-decoration-color: #00af00\">300</span>, <span style=\"color: #00af00; text-decoration-color: #00af00\">256</span>)            │       <span style=\"color: #00af00; text-decoration-color: #00af00\">5,120,256</span> │\n",
              "├──────────────────────────────────────┼─────────────────────────────┼─────────────────┤\n",
              "│ conv1d_23 (<span style=\"color: #0087ff; text-decoration-color: #0087ff\">Conv1D</span>)                   │ (<span style=\"color: #00d7ff; text-decoration-color: #00d7ff\">None</span>, <span style=\"color: #00af00; text-decoration-color: #00af00\">300</span>, <span style=\"color: #00af00; text-decoration-color: #00af00\">256</span>)            │         <span style=\"color: #00af00; text-decoration-color: #00af00\">459,008</span> │\n",
              "├──────────────────────────────────────┼─────────────────────────────┼─────────────────┤\n",
              "│ dropout_33 (<span style=\"color: #0087ff; text-decoration-color: #0087ff\">Dropout</span>)                 │ (<span style=\"color: #00d7ff; text-decoration-color: #00d7ff\">None</span>, <span style=\"color: #00af00; text-decoration-color: #00af00\">300</span>, <span style=\"color: #00af00; text-decoration-color: #00af00\">256</span>)            │               <span style=\"color: #00af00; text-decoration-color: #00af00\">0</span> │\n",
              "├──────────────────────────────────────┼─────────────────────────────┼─────────────────┤\n",
              "│ conv1d_24 (<span style=\"color: #0087ff; text-decoration-color: #0087ff\">Conv1D</span>)                   │ (<span style=\"color: #00d7ff; text-decoration-color: #00d7ff\">None</span>, <span style=\"color: #00af00; text-decoration-color: #00af00\">300</span>, <span style=\"color: #00af00; text-decoration-color: #00af00\">64</span>)             │          <span style=\"color: #00af00; text-decoration-color: #00af00\">49,216</span> │\n",
              "├──────────────────────────────────────┼─────────────────────────────┼─────────────────┤\n",
              "│ dropout_34 (<span style=\"color: #0087ff; text-decoration-color: #0087ff\">Dropout</span>)                 │ (<span style=\"color: #00d7ff; text-decoration-color: #00d7ff\">None</span>, <span style=\"color: #00af00; text-decoration-color: #00af00\">300</span>, <span style=\"color: #00af00; text-decoration-color: #00af00\">64</span>)             │               <span style=\"color: #00af00; text-decoration-color: #00af00\">0</span> │\n",
              "├──────────────────────────────────────┼─────────────────────────────┼─────────────────┤\n",
              "│ global_max_pooling1d_11              │ (<span style=\"color: #00d7ff; text-decoration-color: #00d7ff\">None</span>, <span style=\"color: #00af00; text-decoration-color: #00af00\">64</span>)                  │               <span style=\"color: #00af00; text-decoration-color: #00af00\">0</span> │\n",
              "│ (<span style=\"color: #0087ff; text-decoration-color: #0087ff\">GlobalMaxPooling1D</span>)                 │                             │                 │\n",
              "├──────────────────────────────────────┼─────────────────────────────┼─────────────────┤\n",
              "│ dense_22 (<span style=\"color: #0087ff; text-decoration-color: #0087ff\">Dense</span>)                     │ (<span style=\"color: #00d7ff; text-decoration-color: #00d7ff\">None</span>, <span style=\"color: #00af00; text-decoration-color: #00af00\">256</span>)                 │          <span style=\"color: #00af00; text-decoration-color: #00af00\">16,640</span> │\n",
              "├──────────────────────────────────────┼─────────────────────────────┼─────────────────┤\n",
              "│ dropout_35 (<span style=\"color: #0087ff; text-decoration-color: #0087ff\">Dropout</span>)                 │ (<span style=\"color: #00d7ff; text-decoration-color: #00d7ff\">None</span>, <span style=\"color: #00af00; text-decoration-color: #00af00\">256</span>)                 │               <span style=\"color: #00af00; text-decoration-color: #00af00\">0</span> │\n",
              "├──────────────────────────────────────┼─────────────────────────────┼─────────────────┤\n",
              "│ dense_23 (<span style=\"color: #0087ff; text-decoration-color: #0087ff\">Dense</span>)                     │ (<span style=\"color: #00d7ff; text-decoration-color: #00d7ff\">None</span>, <span style=\"color: #00af00; text-decoration-color: #00af00\">1</span>)                   │             <span style=\"color: #00af00; text-decoration-color: #00af00\">257</span> │\n",
              "└──────────────────────────────────────┴─────────────────────────────┴─────────────────┘\n",
              "</pre>\n"
            ]
          },
          "metadata": {}
        },
        {
          "output_type": "display_data",
          "data": {
            "text/plain": [
              "\u001b[1m Total params: \u001b[0m\u001b[38;5;34m5,645,377\u001b[0m (21.54 MB)\n"
            ],
            "text/html": [
              "<pre style=\"white-space:pre;overflow-x:auto;line-height:normal;font-family:Menlo,'DejaVu Sans Mono',consolas,'Courier New',monospace\"><span style=\"font-weight: bold\"> Total params: </span><span style=\"color: #00af00; text-decoration-color: #00af00\">5,645,377</span> (21.54 MB)\n",
              "</pre>\n"
            ]
          },
          "metadata": {}
        },
        {
          "output_type": "display_data",
          "data": {
            "text/plain": [
              "\u001b[1m Trainable params: \u001b[0m\u001b[38;5;34m5,645,377\u001b[0m (21.54 MB)\n"
            ],
            "text/html": [
              "<pre style=\"white-space:pre;overflow-x:auto;line-height:normal;font-family:Menlo,'DejaVu Sans Mono',consolas,'Courier New',monospace\"><span style=\"font-weight: bold\"> Trainable params: </span><span style=\"color: #00af00; text-decoration-color: #00af00\">5,645,377</span> (21.54 MB)\n",
              "</pre>\n"
            ]
          },
          "metadata": {}
        },
        {
          "output_type": "display_data",
          "data": {
            "text/plain": [
              "\u001b[1m Non-trainable params: \u001b[0m\u001b[38;5;34m0\u001b[0m (0.00 B)\n"
            ],
            "text/html": [
              "<pre style=\"white-space:pre;overflow-x:auto;line-height:normal;font-family:Menlo,'DejaVu Sans Mono',consolas,'Courier New',monospace\"><span style=\"font-weight: bold\"> Non-trainable params: </span><span style=\"color: #00af00; text-decoration-color: #00af00\">0</span> (0.00 B)\n",
              "</pre>\n"
            ]
          },
          "metadata": {}
        },
        {
          "output_type": "stream",
          "name": "stdout",
          "text": [
            "Epoch 1/6\n",
            "\u001b[1m22/22\u001b[0m \u001b[32m━━━━━━━━━━━━━━━━━━━━\u001b[0m\u001b[37m\u001b[0m \u001b[1m23s\u001b[0m 912ms/step - accuracy: 0.5610 - loss: 0.6828 - val_accuracy: 0.8118 - val_loss: 0.5508\n",
            "Epoch 2/6\n",
            "\u001b[1m22/22\u001b[0m \u001b[32m━━━━━━━━━━━━━━━━━━━━\u001b[0m\u001b[37m\u001b[0m \u001b[1m18s\u001b[0m 822ms/step - accuracy: 0.8723 - loss: 0.3781 - val_accuracy: 0.8588 - val_loss: 0.2989\n",
            "Epoch 3/6\n",
            "\u001b[1m22/22\u001b[0m \u001b[32m━━━━━━━━━━━━━━━━━━━━\u001b[0m\u001b[37m\u001b[0m \u001b[1m22s\u001b[0m 921ms/step - accuracy: 0.9476 - loss: 0.1532 - val_accuracy: 0.8706 - val_loss: 0.2754\n",
            "Epoch 4/6\n",
            "\u001b[1m22/22\u001b[0m \u001b[32m━━━━━━━━━━━━━━━━━━━━\u001b[0m\u001b[37m\u001b[0m \u001b[1m18s\u001b[0m 823ms/step - accuracy: 0.9752 - loss: 0.0883 - val_accuracy: 0.8647 - val_loss: 0.3255\n",
            "Epoch 5/6\n",
            "\u001b[1m22/22\u001b[0m \u001b[32m━━━━━━━━━━━━━━━━━━━━\u001b[0m\u001b[37m\u001b[0m \u001b[1m26s\u001b[0m 1s/step - accuracy: 0.9742 - loss: 0.0613 - val_accuracy: 0.8529 - val_loss: 0.3237\n",
            "Epoch 6/6\n",
            "\u001b[1m22/22\u001b[0m \u001b[32m━━━━━━━━━━━━━━━━━━━━\u001b[0m\u001b[37m\u001b[0m \u001b[1m38s\u001b[0m 948ms/step - accuracy: 0.9871 - loss: 0.0307 - val_accuracy: 0.8765 - val_loss: 0.3000\n"
          ]
        }
      ],
      "source": [
        "# Input layer\n",
        "input_layer = Input(shape=(300,), dtype='int32')\n",
        "\n",
        "# Embedding layer (replace with pre-trained embeddings if available)\n",
        "embedding_layer = Embedding(input_dim=20001, output_dim=256, trainable=True)(input_layer)\n",
        "\n",
        "# First Conv1D block with residual connection\n",
        "conv1 = Conv1D(filters=256, kernel_size=7, activation='relu', padding='same')(embedding_layer)\n",
        "dropout1 = Dropout(0.2)(conv1)\n",
        "\n",
        "# Second Conv1D block\n",
        "conv2 = Conv1D(filters=64, kernel_size=3, activation='relu', padding='same')(dropout1)\n",
        "dropout2 = Dropout(0.45)(conv2)\n",
        "\n",
        "# Global MaxPooling after both Conv1D blocks\n",
        "pooled = GlobalMaxPooling1D()(dropout2)\n",
        "\n",
        "# Fully connected layer\n",
        "dense = Dense(256, activation='relu')(pooled)\n",
        "dropout3 = Dropout(0.45)(dense)\n",
        "\n",
        "# Output layer for binary classification\n",
        "output = Dense(1, activation='sigmoid')(dropout3)\n",
        "\n",
        "# Compile model\n",
        "model = Model(inputs=input_layer, outputs=output)\n",
        "model.compile(optimizer='adam', loss='binary_crossentropy', metrics=['accuracy'])\n",
        "\n",
        "# Summary for debugging\n",
        "model.summary()\n",
        "\n",
        "# Define early stopping callback\n",
        "early_stopping = EarlyStopping(\n",
        "    monitor='val_loss',         # Monitor validation loss\n",
        "    patience=3,                 # Stop if no improvement for 3 consecutive epochs\n",
        "    restore_best_weights=True   # Restore model weights from the best epoch\n",
        ")\n",
        "\n",
        "# Train the model with early stopping\n",
        "history = model.fit(\n",
        "    X_train,\n",
        "    y_train,\n",
        "    validation_data=(X_test, y_test),\n",
        "    epochs=6,                         # Set a high number of epochs for tuning\n",
        "    batch_size=32,\n",
        "    class_weight=class_weights_dict,  # Apply class weights\n",
        "    callbacks=[early_stopping]        # Add early stopping\n",
        ")"
      ]
    },
    {
      "cell_type": "markdown",
      "source": [
        "# HyperParameter Tuning\n",
        "\n",
        "DON'T RUN\n",
        "\n",
        "Tuning the model params\n",
        "\n",
        "*   Best Conv1 Filters: 256\n",
        "*   Best Conv1 Kernel Size: 7\n",
        "*   Best Dropout1: 0.2\n",
        "*   Best Conv2 Filters: 64\n",
        "*   Best Conv2 Kernel Size: 3\n",
        "*   Best Dropout2: 0.45\n",
        "*   Best Dense Units: 256\n",
        "*   Best Dropout3: 0.45\n",
        "*   Best Learning Rate: 0.001\n",
        "*   Epoch: 6"
      ],
      "metadata": {
        "id": "_x0yEWN66b1n"
      }
    },
    {
      "cell_type": "code",
      "source": [
        "# Install and Import Required Libraries\n",
        "!pip install keras-tuner\n",
        "import keras_tuner as kt\n",
        "from tensorflow.keras.models import Model\n",
        "from tensorflow.keras.layers import Input, Embedding, Conv1D, Dropout, GlobalMaxPooling1D, Dense, BatchNormalization, Add\n",
        "from tensorflow.keras.optimizers import Adam\n",
        "from keras_tuner.tuners import RandomSearch\n",
        "\n",
        "# Function to build the model with tunable hyperparameters\n",
        "def build_model(hp):\n",
        "    input_layer = Input(shape=(300,), dtype='int32')\n",
        "\n",
        "    # Embedding Layer\n",
        "    embedding_layer = Embedding(input_dim=20001, output_dim=256, trainable=True)(input_layer)\n",
        "\n",
        "    # First Conv1D Block\n",
        "    conv1_filters = hp.Choice('conv1_filters', [64, 128, 256])  # Tunable filter size\n",
        "    conv1_kernel = hp.Choice('conv1_kernel', [3, 5, 7])  # Tunable kernel size\n",
        "    conv1 = Conv1D(filters=conv1_filters, kernel_size=conv1_kernel, activation='relu', padding='same')(embedding_layer)\n",
        "    conv1 = BatchNormalization()(conv1)\n",
        "    dropout1 = Dropout(hp.Float('dropout1', 0.2, 0.4, step=0.05))(conv1)  # Tunable dropout\n",
        "\n",
        "    # Second Conv1D Block\n",
        "    conv2_filters = hp.Choice('conv2_filters', [64, 128])  # Tunable filter size\n",
        "    conv2_kernel = hp.Choice('conv2_kernel', [3, 5])  # Tunable kernel size\n",
        "    conv2 = Conv1D(filters=conv2_filters, kernel_size=conv2_kernel, activation='relu', padding='same')(dropout1)\n",
        "    conv2 = BatchNormalization()(conv2)\n",
        "    dropout2 = Dropout(hp.Float('dropout2', 0.3, 0.5, step=0.05))(conv2)\n",
        "\n",
        "    # **Fixed Residual Connection**\n",
        "    residual = Conv1D(filters=conv2_filters, kernel_size=1, padding=\"same\")(dropout1)\n",
        "    residual = Add()([residual, dropout2])\n",
        "\n",
        "    # Global Max Pooling\n",
        "    pooled = GlobalMaxPooling1D()(residual)\n",
        "\n",
        "    # Fully Connected Layer\n",
        "    dense_units = hp.Choice('dense_units', [64, 128, 256])  # Tunable dense units\n",
        "    dense = Dense(dense_units, activation='relu')(pooled)\n",
        "    dropout3 = Dropout(hp.Float('dropout3', 0.4, 0.6, step=0.05))(dense)  # Tunable dropout\n",
        "\n",
        "    # Output Layer\n",
        "    output = Dense(1, activation='sigmoid')(dropout3)\n",
        "\n",
        "    # Compile the Model with Tunable Learning Rate\n",
        "    learning_rate = hp.Choice('learning_rate', [1e-3, 5e-4, 1e-4])\n",
        "    model = Model(inputs=input_layer, outputs=output)\n",
        "    model.compile(optimizer=Adam(learning_rate), loss='binary_crossentropy', metrics=['accuracy'])\n",
        "\n",
        "    return model\n",
        "\n",
        "\n",
        "# Define the Hyperparameter Tuner\n",
        "tuner = RandomSearch(\n",
        "    build_model,\n",
        "    objective='val_accuracy',  # Optimize validation accuracy\n",
        "    max_trials=20,            # Increased trials for better tuning\n",
        "    executions_per_trial=1,   # Run each model once per trial\n",
        "    directory='tuner_results',  # Save results here\n",
        "    project_name='cnn_hyperparameter_tuning'\n",
        ")\n",
        "\n",
        "# Start Hyperparameter Search\n",
        "tuner.search(X_train, y_train, validation_data=(X_test, y_test), epochs=10, batch_size=32)\n",
        "\n",
        "# Get the Best Hyperparameters\n",
        "best_hps = tuner.get_best_hyperparameters(num_trials=1)[0]\n",
        "\n",
        "# Print the Best Tuned Hyperparameters\n",
        "print(f\"Best Conv1 Filters: {best_hps.get('conv1_filters')}\")\n",
        "print(f\"Best Conv1 Kernel Size: {best_hps.get('conv1_kernel')}\")\n",
        "print(f\"Best Dropout1: {best_hps.get('dropout1')}\")\n",
        "print(f\"Best Conv2 Filters: {best_hps.get('conv2_filters')}\")\n",
        "print(f\"Best Conv2 Kernel Size: {best_hps.get('conv2_kernel')}\")\n",
        "print(f\"Best Dropout2: {best_hps.get('dropout2')}\")\n",
        "print(f\"Best Dense Units: {best_hps.get('dense_units')}\")\n",
        "print(f\"Best Dropout3: {best_hps.get('dropout3')}\")\n",
        "print(f\"Best Learning Rate: {best_hps.get('learning_rate')}\")"
      ],
      "metadata": {
        "colab": {
          "base_uri": "https://localhost:8080/"
        },
        "id": "m_t7KKKk6iHk",
        "outputId": "21e89cb4-bb6a-48e0-9b63-d348601de8a1"
      },
      "execution_count": 66,
      "outputs": [
        {
          "output_type": "stream",
          "name": "stdout",
          "text": [
            "Requirement already satisfied: keras-tuner in /usr/local/lib/python3.11/dist-packages (1.4.7)\n",
            "Requirement already satisfied: keras in /usr/local/lib/python3.11/dist-packages (from keras-tuner) (3.8.0)\n",
            "Requirement already satisfied: packaging in /usr/local/lib/python3.11/dist-packages (from keras-tuner) (24.2)\n",
            "Requirement already satisfied: requests in /usr/local/lib/python3.11/dist-packages (from keras-tuner) (2.32.3)\n",
            "Requirement already satisfied: kt-legacy in /usr/local/lib/python3.11/dist-packages (from keras-tuner) (1.0.5)\n",
            "Requirement already satisfied: absl-py in /usr/local/lib/python3.11/dist-packages (from keras->keras-tuner) (1.4.0)\n",
            "Requirement already satisfied: numpy in /usr/local/lib/python3.11/dist-packages (from keras->keras-tuner) (1.26.4)\n",
            "Requirement already satisfied: rich in /usr/local/lib/python3.11/dist-packages (from keras->keras-tuner) (13.9.4)\n",
            "Requirement already satisfied: namex in /usr/local/lib/python3.11/dist-packages (from keras->keras-tuner) (0.0.8)\n",
            "Requirement already satisfied: h5py in /usr/local/lib/python3.11/dist-packages (from keras->keras-tuner) (3.12.1)\n",
            "Requirement already satisfied: optree in /usr/local/lib/python3.11/dist-packages (from keras->keras-tuner) (0.14.0)\n",
            "Requirement already satisfied: ml-dtypes in /usr/local/lib/python3.11/dist-packages (from keras->keras-tuner) (0.4.1)\n",
            "Requirement already satisfied: charset-normalizer<4,>=2 in /usr/local/lib/python3.11/dist-packages (from requests->keras-tuner) (3.4.1)\n",
            "Requirement already satisfied: idna<4,>=2.5 in /usr/local/lib/python3.11/dist-packages (from requests->keras-tuner) (3.10)\n",
            "Requirement already satisfied: urllib3<3,>=1.21.1 in /usr/local/lib/python3.11/dist-packages (from requests->keras-tuner) (2.3.0)\n",
            "Requirement already satisfied: certifi>=2017.4.17 in /usr/local/lib/python3.11/dist-packages (from requests->keras-tuner) (2025.1.31)\n",
            "Requirement already satisfied: typing-extensions>=4.5.0 in /usr/local/lib/python3.11/dist-packages (from optree->keras->keras-tuner) (4.12.2)\n",
            "Requirement already satisfied: markdown-it-py>=2.2.0 in /usr/local/lib/python3.11/dist-packages (from rich->keras->keras-tuner) (3.0.0)\n",
            "Requirement already satisfied: pygments<3.0.0,>=2.13.0 in /usr/local/lib/python3.11/dist-packages (from rich->keras->keras-tuner) (2.18.0)\n",
            "Requirement already satisfied: mdurl~=0.1 in /usr/local/lib/python3.11/dist-packages (from markdown-it-py>=2.2.0->rich->keras->keras-tuner) (0.1.2)\n",
            "Reloading Tuner from tuner_results/cnn_hyperparameter_tuning/tuner0.json\n",
            "Best Conv1 Filters: 256\n",
            "Best Conv1 Kernel Size: 7\n",
            "Best Dropout1: 0.2\n",
            "Best Conv2 Filters: 64\n",
            "Best Conv2 Kernel Size: 3\n",
            "Best Dropout2: 0.45\n",
            "Best Dense Units: 256\n",
            "Best Dropout3: 0.45\n",
            "Best Learning Rate: 0.001\n"
          ]
        }
      ]
    },
    {
      "cell_type": "markdown",
      "metadata": {
        "id": "LGNGRKbKH3ZJ"
      },
      "source": [
        "# Evaluation\n",
        "Evaluate the model on the test set and visualize results.\n"
      ]
    },
    {
      "cell_type": "code",
      "execution_count": 68,
      "metadata": {
        "colab": {
          "base_uri": "https://localhost:8080/",
          "height": 1000
        },
        "id": "RzpbjKqqG6PI",
        "outputId": "d2c81835-fab1-4c7f-a96c-1e5a57554cb7"
      },
      "outputs": [
        {
          "output_type": "stream",
          "name": "stdout",
          "text": [
            "\u001b[1m6/6\u001b[0m \u001b[32m━━━━━━━━━━━━━━━━━━━━\u001b[0m\u001b[37m\u001b[0m \u001b[1m1s\u001b[0m 198ms/step - accuracy: 0.8688 - loss: 0.2784\n",
            "Test Loss: 0.27543988823890686\n",
            "Test Accuracy: 0.8705882430076599\n",
            "\u001b[1m6/6\u001b[0m \u001b[32m━━━━━━━━━━━━━━━━━━━━\u001b[0m\u001b[37m\u001b[0m \u001b[1m1s\u001b[0m 182ms/step\n",
            "                                           func_text  Actual  \\\n",
            "0  import os def execute_user_input():     user_i...       1   \n",
            "1  import pickle import os import subprocess  cla...       0   \n",
            "2  import sqlite3 from flask import Flask, reques...       0   \n",
            "3  import os  def unsafe_function(user_input):   ...       1   \n",
            "4  import ast import operator as op  allowed_oper...       0   \n",
            "\n",
            "   Predicted_Probability  Predicted_Class  \n",
            "0               0.941360                1  \n",
            "1               0.003322                0  \n",
            "2               0.065297                0  \n",
            "3               0.935548                1  \n",
            "4               0.003449                0  \n"
          ]
        },
        {
          "output_type": "display_data",
          "data": {
            "text/plain": [
              "<Figure size 640x480 with 2 Axes>"
            ],
            "image/png": "[encoded data removed]"
          },
          "metadata": {}
        },
        {
          "output_type": "stream",
          "name": "stdout",
          "text": [
            "              precision    recall  f1-score   support\n",
            "\n",
            "           0       0.82      0.93      0.87        80\n",
            "           1       0.93      0.82      0.87        90\n",
            "\n",
            "    accuracy                           0.87       170\n",
            "   macro avg       0.87      0.87      0.87       170\n",
            "weighted avg       0.88      0.87      0.87       170\n",
            "\n",
            "AUC Score: 0.8736111111111112\n"
          ]
        },
        {
          "output_type": "display_data",
          "data": {
            "text/plain": [
              "<Figure size 800x600 with 1 Axes>"
            ],
            "image/png": "[encoded data removed]"
          },
          "metadata": {}
        },
        {
          "output_type": "stream",
          "name": "stdout",
          "text": [
            "\u001b[1m1/1\u001b[0m \u001b[32m━━━━━━━━━━━━━━━━━━━━\u001b[0m\u001b[37m\u001b[0m \u001b[1m0s\u001b[0m 61ms/step\n",
            "                                           func_text  Predicted_Probability  \\\n",
            "0  <?php\\n$db_config = parse_ini_file('/var/www/d...               0.122718   \n",
            "1  <?php\\nsession_start();\\n\\n$db_config = parse_...               0.107962   \n",
            "\n",
            "   Predicted_Class  \n",
            "0                0  \n",
            "1                0  \n"
          ]
        }
      ],
      "source": [
        "# Evaluate the model\n",
        "loss, accuracy = model.evaluate(X_test, y_test)\n",
        "print(f\"Test Loss: {loss}\")\n",
        "print(f\"Test Accuracy: {accuracy}\")\n",
        "\n",
        "# Make predictions on the test data\n",
        "y_pred = model.predict(X_test)\n",
        "\n",
        "# Retain the raw probabilities for now\n",
        "# TODO: Finetune to prediction threshold\n",
        "y_pred_classes = (y_pred > 0.5).astype(\"int32\")\n",
        "\n",
        "# Create DataFrame with corresponding `func_text` and probabilities\n",
        "results_df = pd.DataFrame({\n",
        "    'func_text': func_test.reset_index(drop=True),           # The original function text (no tokenization)\n",
        "    'Actual': y_test,                                        # Actual labels\n",
        "    'Predicted_Probability': y_pred.flatten(),               # Raw predicted probabilities\n",
        "    'Predicted_Class': y_pred_classes.flatten()              # Predicted class (0 or 1)\n",
        "})\n",
        "\n",
        "# Save results to a CSV file\n",
        "results_df.to_csv('model_results.csv', index=False)\n",
        "\n",
        "# Display the first few rows of the prediction results\n",
        "print(results_df.head())\n",
        "\n",
        "\n",
        "# Confusion matrix\n",
        "conf_matrix = confusion_matrix(y_test, y_pred_classes)\n",
        "sns.heatmap(conf_matrix, annot=True, fmt='d')\n",
        "plt.title(\"Confusion Matrix\")\n",
        "plt.show()\n",
        "\n",
        "# Classification report\n",
        "print(classification_report(y_test, y_pred_classes))\n",
        "\n",
        "# AUC score\n",
        "auc = roc_auc_score(y_test, y_pred_classes)\n",
        "print(f\"AUC Score: {auc}\")\n",
        "\n",
        "\n",
        "# Plot training and validation loss\n",
        "plt.figure(figsize=(8, 6))\n",
        "plt.plot(history.history['loss'], label='Training Loss')\n",
        "plt.plot(history.history['val_loss'], label='Validation Loss')\n",
        "plt.title('Training and Validation Loss')\n",
        "plt.xlabel('Epochs')\n",
        "plt.ylabel('Loss')\n",
        "plt.legend()\n",
        "plt.grid()\n",
        "plt.show()\n",
        "\n",
        "# model.save(\"cnn_python_model.h5\")"
      ]
    },
    {
      "cell_type": "code",
      "source": [],
      "metadata": {
        "id": "hhDGY2m3Kol2"
      },
      "execution_count": null,
      "outputs": []
    }
  ],
  "metadata": {
    "colab": {
      "provenance": [],
      "include_colab_link": true
    },
    "kernelspec": {
      "display_name": "Python 3",
      "name": "python3"
    },
    "language_info": {
      "name": "python"
    }
  },
  "nbformat": 4,
  "nbformat_minor": 0
}