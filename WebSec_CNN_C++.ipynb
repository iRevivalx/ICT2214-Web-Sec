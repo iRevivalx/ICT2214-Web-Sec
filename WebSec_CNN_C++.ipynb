{
  "cells": [
    {
      "cell_type": "markdown",
      "metadata": {
        "id": "view-in-github",
        "colab_type": "text"
      },
      "source": [
        "<a href=\"https://colab.research.google.com/github/iRevivalx/ICT2214-Web-Sec/blob/main/WebSec_CNN_C%2B%2B.ipynb\" target=\"_parent\"><img src=\"https://colab.research.google.com/assets/colab-badge.svg\" alt=\"Open In Colab\"/></a>"
      ]
    },
    {
      "cell_type": "markdown",
      "metadata": {
        "id": "OnL4coPkHLTb"
      },
      "source": [
        "# Import Libraries\n",
        "This section contains all the necessary imports for the project"
      ]
    },
    {
      "cell_type": "code",
      "execution_count": 1,
      "metadata": {
        "id": "ZqQSoqliGxIk"
      },
      "outputs": [],
      "source": [
        "import numpy as np\n",
        "import pandas as pd\n",
        "import tensorflow as tf\n",
        "from sklearn.model_selection import train_test_split\n",
        "from sklearn.preprocessing import LabelEncoder\n",
        "from sklearn.metrics import classification_report, accuracy_score, precision_score, recall_score, f1_score\n",
        "from tensorflow.keras.models import Model\n",
        "from tensorflow.keras.layers import Input, Embedding, Conv1D, GlobalMaxPooling1D, Dense, Dropout\n",
        "from tensorflow.keras.optimizers import Adam\n",
        "from tensorflow.keras.callbacks import EarlyStopping\n",
        "import matplotlib.pyplot as plt"
      ]
    },
    {
      "cell_type": "markdown",
      "metadata": {
        "id": "SCOv-ufiHaw2"
      },
      "source": [
        "# Load Dataset\n",
        "This section where we load the dataset and preview the first few rows"
      ]
    },
    {
      "cell_type": "code",
      "execution_count": 2,
      "metadata": {
        "colab": {
          "base_uri": "https://localhost:8080/"
        },
        "id": "mdlvNMkPG6Bn",
        "outputId": "2224465b-c336-4839-879d-bef9e23bdbe2"
      },
      "outputs": [
        {
          "output_type": "stream",
          "name": "stderr",
          "text": [
            "<ipython-input-2-d25b45180100>:2: DtypeWarning: Columns (5,6,8) have mixed types. Specify dtype option on import or set low_memory=False.\n",
            "  dataset = pd.read_csv(\"c++.csv\", encoding=\"utf-8\")\n",
            "<ipython-input-2-d25b45180100>:13: SettingWithCopyWarning: \n",
            "A value is trying to be set on a copy of a slice from a DataFrame.\n",
            "Try using .loc[row_indexer,col_indexer] = value instead\n",
            "\n",
            "See the caveats in the documentation: https://pandas.pydata.org/pandas-docs/stable/user_guide/indexing.html#returning-a-view-versus-a-copy\n",
            "  dataset['target'] = dataset['target'].astype(int)  # Convert target to integer\n"
          ]
        },
        {
          "output_type": "stream",
          "name": "stdout",
          "text": [
            "Fixed Target Value Counts:\n",
            "target\n",
            "0    191440\n",
            "1     13606\n",
            "8         1\n",
            "Name: count, dtype: int64\n",
            "0           []\n",
            "1    [CWE-264]\n",
            "2           []\n",
            "3    [CWE-787]\n",
            "4    [CWE-787]\n",
            "Name: cwe, dtype: object\n",
            "Final dataset shape: (196127, 9)\n",
            "Unique CWE values in dataset: [nan 'CWE-264' 'CWE-787' 'CWE-20' 'CWE-399' 'CWE-200' 'CWE-189' 'CWE-119'\n",
            " 'CWE-16' 'CWE-94' 'CWE-362' 'CWE-269' 'CWE-400' 'CWE-193' 'CWE-120'\n",
            " 'CWE-287' 'CWE-346' 'CWE-476' 'CWE-909' 'CWE-59' 'CWE-190' 'CWE-310'\n",
            " 'CWE-22' 'CWE-415' 'CWE-772' 'CWE-401' 'CWE-134' 'CWE-617' 'CWE-79'\n",
            " 'CWE-125' 'CWE-703' 'CWE-284' 'CWE-522' 'CWE-255' 'CWE-611' 'CWE-369'\n",
            " 'CWE-61' 'CWE-732' 'CWE-89' 'CWE-416' 'CWE-755' 'CWE-835' 'CWE-241'\n",
            " 'CWE-754' 'CWE-665' 'CWE-131' 'CWE-254' 'CWE-19' 'CWE-77' 'CWE-17'\n",
            " 'CWE-209' 'CWE-273' 'CWE-295' 'CWE-18' 'CWE-763' 'CWE-129' 'CWE-681'\n",
            " 'CWE-824' 'CWE-502' 'CWE-601' 'CWE-203' 'CWE-862' 'CWE-285' 'CWE-326'\n",
            " 'CWE-347' 'CWE-252' 'CWE-532' 'CWE-388' 'CWE-74' 'CWE-770' 'CWE-191'\n",
            " 'CWE-682' 'CWE-93' 'CWE-319' 'CWE-918' 'CWE-358' 'CWE-404' 'CWE-908'\n",
            " 'CWE-674' 'CWE-345' 'CWE-834' 'CWE-943' 'CWE-78' 'CWE-863' 'CWE-354'\n",
            " 'CWE-668' 'CWE-843' 'CWE-436' 'CWE-290' 'CWE-90' 'CWE-667' 'CWE-704'\n",
            " 'CWE-613' 'CWE-417' 'CWE-88' 'CWE-670' 'CWE-352' 'CWE-216' 'CWE-327'\n",
            " 'CWE-121' 'CWE-444' 'CWE-113' 'CWE-706' 'CWE-672' 'CWE-434' 'CWE-323'\n",
            " 'CWE-662' 'CWE-349' 'CWE-212' 'CWE-330' 'CWE-281' 'CWE-297' 'CWE-307'\n",
            " 'CWE-459' 'CWE-331' 'CWE-776' 'CWE-116' 'CWE-798' 'CWE-1021' 'CWE-924'\n",
            " 'CWE-122' 'CWE-367' 'CWE-276' 'CWE-788' 'CWE-825' 'CWE-823' 'CWE-805'\n",
            " 'CWE-126' 'CWE-475' 'CWE-288' 'CWE-693' 'CWE-428' 'CWE-552' 'CWE-913'\n",
            " 'CWE-1187' 'CWE-197' 'CWE-320' 'CWE-697' 'CWE-91' 'CWE-680' 'CWE-457'\n",
            " 'CWE-786' 'CWE-303' 'CWE-426' 'CWE-707']\n",
            "Number of vulnerable samples before filtering: 13606\n",
            "Number of samples with web-related CWE: 72615\n",
            "Filtered dataset shape: (4687, 10)\n",
            "Target Value Counts:\n",
            "target\n",
            "0    191440\n",
            "1     13606\n",
            "8         1\n",
            "Name: count, dtype: int64\n"
          ]
        }
      ],
      "source": [
        "# Load the dataset\n",
        "dataset = pd.read_csv(\"c++.csv\", encoding=\"utf-8\")\n",
        "\n",
        "# Define the list of relevant CWEs\n",
        "web_related_cwe = [\n",
        "    'CWE-20', 'CWE-79', 'CWE-200', 'CWE-119',\n",
        "    'CWE-399', 'CWE-416', 'CWE-264', 'CWE-362', 'CWE-284'\n",
        "]\n",
        "\n",
        "### **Fix the target column (Remove invalid values)**\n",
        "dataset['target'] = pd.to_numeric(dataset['target'], errors='coerce')\n",
        "dataset = dataset.dropna(subset=['target'])  # Remove rows where target is NaN\n",
        "dataset['target'] = dataset['target'].astype(int)  # Convert target to integer\n",
        "\n",
        "print(\"Fixed Target Value Counts:\")\n",
        "print(dataset[\"target\"].value_counts())\n",
        "\n",
        "# Safely process the 'cwe' column\n",
        "def safe_process_cwe(val):\n",
        "    if isinstance(val, str):\n",
        "        try:\n",
        "            result = eval(val)  # Convert string representation of list to actual list\n",
        "            return result if isinstance(result, list) else [result]  # Ensure it's a list\n",
        "        except:\n",
        "            return []  # Return empty list if conversion fails\n",
        "    elif isinstance(val, list):\n",
        "        return val  # Already a list\n",
        "    elif isinstance(val, (int, float)):  # If it's a number, convert to empty list\n",
        "        return []\n",
        "    else:\n",
        "        return []  # Default to empty list\n",
        "\n",
        "# Apply the function to 'cwe' column\n",
        "dataset['cwe'] = dataset['cwe'].apply(safe_process_cwe)\n",
        "\n",
        "# Ensure 'cwe' column is properly formatted\n",
        "print(dataset['cwe'].head())\n",
        "\n",
        "# Normalize CWE values (remove spaces and ensure uppercase)\n",
        "dataset['cwe'] = dataset['cwe'].apply(lambda x: [cwe.strip().upper() for cwe in x])\n",
        "\n",
        "# Filter dataset for vulnerable code (target=1) and relevant CWEs\n",
        "filtered_dataset = dataset[(dataset['target'] == 1) &\n",
        "                           (dataset['cwe'].apply(lambda x: any(cwe in web_related_cwe for cwe in x)))]\n",
        "\n",
        "# Combine with non-vulnerable code (target=0) to balance the dataset\n",
        "non_vulnerable_dataset = dataset[dataset['target'] == 0]\n",
        "\n",
        "# Concatenate both datasets\n",
        "final_dataset = pd.concat([filtered_dataset, non_vulnerable_dataset], ignore_index=True)\n",
        "\n",
        "# Check resulting dataset size\n",
        "print(\"Final dataset shape:\", final_dataset.shape)\n",
        "\n",
        "# Extract text and labels\n",
        "X = final_dataset['func']\n",
        "y = final_dataset['target']\n",
        "\n",
        "# Print unique CWE values in the dataset\n",
        "unique_cwes = dataset['cwe'].explode().unique()\n",
        "print(\"Unique CWE values in dataset:\", unique_cwes)\n",
        "\n",
        "print(\"Number of vulnerable samples before filtering:\", dataset[dataset['target'] == 1].shape[0])\n",
        "\n",
        "# Check how many rows match the web-related CWE condition\n",
        "dataset['has_web_cwe'] = dataset['cwe'].apply(lambda x: any(cwe in web_related_cwe for cwe in x))\n",
        "print(\"Number of samples with web-related CWE:\", dataset['has_web_cwe'].sum())\n",
        "\n",
        "# Check how many vulnerable rows also match the CWE condition\n",
        "filtered_dataset = dataset[(dataset['target'] == 1) & (dataset['has_web_cwe'])]\n",
        "print(\"Filtered dataset shape:\", filtered_dataset.shape)\n",
        "\n",
        "print(\"Target Value Counts:\")\n",
        "print(dataset[\"target\"].value_counts())\n",
        "\n",
        "\n",
        "# Ensure X is not empty\n",
        "if len(X) == 0 or len(y) == 0:\n",
        "    raise ValueError(\"Filtered dataset is empty. Adjust filtering criteria.\")\n",
        "\n",
        "\n"
      ]
    },
    {
      "cell_type": "markdown",
      "metadata": {
        "id": "vQrR__ssHk5b"
      },
      "source": [
        "# Preprocessing\n",
        "Perform preprocessing such as tokenization, padding, and label encoding.\n"
      ]
    },
    {
      "cell_type": "code",
      "execution_count": 3,
      "metadata": {
        "id": "r9dGbT6XtSyp",
        "colab": {
          "base_uri": "https://localhost:8080/"
        },
        "outputId": "a85d954b-5623-4910-f202-19ba5f1d1185"
      },
      "outputs": [
        {
          "output_type": "stream",
          "name": "stdout",
          "text": [
            "Shape of X_padded: (196127, 300)\n",
            "Shape of y: (196127,)\n"
          ]
        }
      ],
      "source": [
        "# Tokenize and pad the code snippets\n",
        "from tensorflow.keras.preprocessing.text import Tokenizer\n",
        "from tensorflow.keras.preprocessing.sequence import pad_sequences\n",
        "\n",
        "# Initialize the tokenizer\n",
        "tokenizer = Tokenizer(num_words=20000, oov_token=\"<OOV>\")\n",
        "tokenizer.fit_on_texts(X)\n",
        "\n",
        "# Tokenize and pad sequences\n",
        "X_tokenized = tokenizer.texts_to_sequences(X)\n",
        "X_padded = pad_sequences(X_tokenized, maxlen=300, padding=\"post\", truncating=\"post\")\n",
        "\n",
        "# Check shape after preprocessing\n",
        "print(\"Shape of X_padded:\", X_padded.shape)\n",
        "print(\"Shape of y:\", y.shape)\n",
        "\n",
        "# Ensure dataset is non-empty before splitting\n",
        "if X_padded.shape[0] == 0 or len(y) == 0:\n",
        "    raise ValueError(\"Dataset is empty after preprocessing. Adjust filters or input data.\")"
      ]
    },
    {
      "cell_type": "markdown",
      "metadata": {
        "id": "Szam8sO_Hq-5"
      },
      "source": [
        "# Train/Test Split\n",
        "Split the data into training and testing sets.\n"
      ]
    },
    {
      "cell_type": "code",
      "execution_count": 4,
      "metadata": {
        "id": "GdNa6381G6Gk"
      },
      "outputs": [],
      "source": [
        "# Split the data into training and testing sets\n",
        "X_train, X_test, y_train, y_test = train_test_split(X_padded, y, test_size=0.2, random_state=42)\n",
        "\n",
        "# Handle missing values in y_train and y_test\n",
        "y_train = pd.to_numeric(y_train, errors=\"coerce\").fillna(0).astype(int)\n",
        "y_test = pd.to_numeric(y_test, errors=\"coerce\").fillna(0).astype(int)\n",
        "\n",
        "# Convert to TensorFlow-compatible data types\n",
        "X_train = np.array(X_train, dtype=\"float32\")\n",
        "X_test = np.array(X_test, dtype=\"float32\")\n",
        "y_train = np.array(y_train, dtype=\"int32\")\n",
        "y_test = np.array(y_test, dtype=\"int32\")"
      ]
    },
    {
      "cell_type": "markdown",
      "metadata": {
        "id": "f6LZ6tzTHwfg"
      },
      "source": [
        "# Model Training\n",
        "Train the CNN model on the preprocessed data.\n"
      ]
    },
    {
      "cell_type": "code",
      "execution_count": 5,
      "metadata": {
        "colab": {
          "base_uri": "https://localhost:8080/"
        },
        "id": "GkxDcWknG6Lv",
        "outputId": "55d7c969-7714-47a5-d903-ab1c88d059e4"
      },
      "outputs": [
        {
          "output_type": "stream",
          "name": "stderr",
          "text": [
            "/usr/local/lib/python3.11/dist-packages/keras/src/layers/core/embedding.py:90: UserWarning: Argument `input_length` is deprecated. Just remove it.\n",
            "  warnings.warn(\n"
          ]
        },
        {
          "output_type": "stream",
          "name": "stdout",
          "text": [
            "Epoch 1/10\n",
            "\u001b[1m4904/4904\u001b[0m \u001b[32m━━━━━━━━━━━━━━━━━━━━\u001b[0m\u001b[37m\u001b[0m \u001b[1m798s\u001b[0m 162ms/step - accuracy: 0.9738 - loss: 0.1228 - val_accuracy: 0.9761 - val_loss: 0.0925\n",
            "Epoch 2/10\n",
            "\u001b[1m4904/4904\u001b[0m \u001b[32m━━━━━━━━━━━━━━━━━━━━\u001b[0m\u001b[37m\u001b[0m \u001b[1m793s\u001b[0m 162ms/step - accuracy: 0.9760 - loss: 0.0805 - val_accuracy: 0.9764 - val_loss: 0.0913\n",
            "Epoch 3/10\n",
            "\u001b[1m4904/4904\u001b[0m \u001b[32m━━━━━━━━━━━━━━━━━━━━\u001b[0m\u001b[37m\u001b[0m \u001b[1m802s\u001b[0m 162ms/step - accuracy: 0.9767 - loss: 0.0639 - val_accuracy: 0.9768 - val_loss: 0.1011\n",
            "Epoch 4/10\n",
            "\u001b[1m4904/4904\u001b[0m \u001b[32m━━━━━━━━━━━━━━━━━━━━\u001b[0m\u001b[37m\u001b[0m \u001b[1m802s\u001b[0m 162ms/step - accuracy: 0.9792 - loss: 0.0501 - val_accuracy: 0.9758 - val_loss: 0.1163\n",
            "Epoch 5/10\n",
            "\u001b[1m4904/4904\u001b[0m \u001b[32m━━━━━━━━━━━━━━━━━━━━\u001b[0m\u001b[37m\u001b[0m \u001b[1m797s\u001b[0m 161ms/step - accuracy: 0.9799 - loss: 0.0444 - val_accuracy: 0.9763 - val_loss: 0.1293\n"
          ]
        }
      ],
      "source": [
        "# Build the CNN model\n",
        "# Define input layer\n",
        "input_layer = Input(shape=(300,))\n",
        "\n",
        "# Embedding layer\n",
        "embedding_layer = Embedding(input_dim=20000, output_dim=128, input_length=300)(input_layer)\n",
        "\n",
        "# Apply dropout after embedding (optional, use if overfitting is severe)\n",
        "embedding_dropout = Dropout(0.2)(embedding_layer)\n",
        "\n",
        "# Convolutional layer\n",
        "conv_layer = Conv1D(filters=128, kernel_size=5, activation=\"relu\")(embedding_dropout)\n",
        "\n",
        "# Pooling layer\n",
        "pooling_layer = GlobalMaxPooling1D()(conv_layer)\n",
        "\n",
        "# Fully connected dense layer\n",
        "dense_layer = Dense(128, activation=\"relu\")(pooling_layer)\n",
        "\n",
        "# Apply dropout after first dense layer\n",
        "dropout_layer1 = Dropout(0.3)(dense_layer)\n",
        "\n",
        "# Another dense layer\n",
        "dense_layer2 = Dense(64, activation=\"relu\")(dropout_layer1)\n",
        "\n",
        "# Apply dropout before output layer\n",
        "dropout_layer2 = Dropout(0.5)(dense_layer2)\n",
        "\n",
        "# Output layer for binary classification\n",
        "output_layer = Dense(1, activation=\"sigmoid\")(dropout_layer2)\n",
        "\n",
        "# Compile the model\n",
        "model = Model(inputs=input_layer, outputs=output_layer)\n",
        "model.compile(optimizer=Adam(learning_rate=0.001), loss=\"binary_crossentropy\", metrics=[\"accuracy\"])\n",
        "\n",
        "# Train the model\n",
        "early_stopping = EarlyStopping(monitor=\"val_loss\", patience=3, restore_best_weights=True)\n",
        "history = model.fit(X_train, y_train, validation_data=(X_test, y_test), epochs=10, batch_size=32, callbacks=[early_stopping])"
      ]
    },
    {
      "cell_type": "markdown",
      "metadata": {
        "id": "LGNGRKbKH3ZJ"
      },
      "source": [
        "# Evaluation\n",
        "Evaluate the model on the test set and visualize results.\n"
      ]
    },
    {
      "cell_type": "code",
      "execution_count": 9,
      "metadata": {
        "colab": {
          "base_uri": "https://localhost:8080/",
          "height": 573
        },
        "id": "RzpbjKqqG6PI",
        "outputId": "e8383101-9f0b-4d28-d897-fc67de73f931"
      },
      "outputs": [
        {
          "output_type": "stream",
          "name": "stdout",
          "text": [
            "\u001b[1m1226/1226\u001b[0m \u001b[32m━━━━━━━━━━━━━━━━━━━━\u001b[0m\u001b[37m\u001b[0m \u001b[1m45s\u001b[0m 37ms/step\n",
            "Accuracy: 97.64%\n",
            "Precision: 97.17%\n",
            "Recall: 97.64%\n",
            "F1-score: 96.51%\n"
          ]
        },
        {
          "output_type": "display_data",
          "data": {
            "text/plain": [
              "<Figure size 640x480 with 1 Axes>"
            ],
            "image/png": "[encoded data removed]"
          },
          "metadata": {}
        },
        {
          "output_type": "stream",
          "name": "stderr",
          "text": [
            "WARNING:absl:You are saving your model as an HDF5 file via `model.save()` or `keras.saving.save_model(model)`. This file format is considered legacy. We recommend using instead the native Keras format, e.g. `model.save('my_model.keras')` or `keras.saving.save_model(model, 'my_model.keras')`. \n"
          ]
        }
      ],
      "source": [
        "# Get model predictions\n",
        "y_pred = model.predict(X_test)\n",
        "y_pred_classes = (y_pred > 0.5).astype(int)  # Convert probabilities to class labels\n",
        "\n",
        "# Calculate metrics\n",
        "accuracy = accuracy_score(y_test, y_pred_classes)\n",
        "precision = precision_score(y_test, y_pred_classes, average='weighted')  # Weighted for imbalanced datasets\n",
        "recall = recall_score(y_test, y_pred_classes, average='weighted')\n",
        "f1 = f1_score(y_test, y_pred_classes, average='weighted')\n",
        "\n",
        "# Print metrics\n",
        "print(f\"Accuracy: {accuracy * 100:.2f}%\")\n",
        "print(f\"Precision: {precision * 100:.2f}%\")\n",
        "print(f\"Recall: {recall * 100:.2f}%\")\n",
        "print(f\"F1-score: {f1 * 100:.2f}%\")\n",
        "\n",
        "# Plot training and validation accuracy\n",
        "plt.plot(history.history[\"accuracy\"], label=\"Training Accuracy\")\n",
        "plt.plot(history.history[\"val_accuracy\"], label=\"Validation Accuracy\")\n",
        "plt.xlabel(\"Epochs\")\n",
        "plt.ylabel(\"Accuracy\")\n",
        "plt.legend()\n",
        "plt.show()\n",
        "\n",
        "# Save the model\n",
        "model.save(\"cnn_c++.h5\")"
      ]
    }
  ],
  "metadata": {
    "colab": {
      "provenance": [],
      "authorship_tag": "ABX9TyOgqW47hFlE5bz8S5NGTS1n",
      "include_colab_link": true
    },
    "kernelspec": {
      "display_name": "Python 3",
      "name": "python3"
    },
    "language_info": {
      "name": "python"
    }
  },
  "nbformat": 4,
  "nbformat_minor": 0
}